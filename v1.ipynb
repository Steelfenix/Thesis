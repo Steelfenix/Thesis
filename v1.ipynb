{
 "cells": [
  {
   "cell_type": "code",
   "execution_count": 165,
   "id": "e21d09e0-b197-4ab2-8070-b60679bc1dcb",
   "metadata": {},
   "outputs": [],
   "source": [
    "from pybaseball import statcast, statcast_pitcher, pitching_stats, cache\n",
    "import pandas as pd\n",
    "import numpy as np\n",
    "import matplotlib.pyplot as plt\n",
    "import seaborn as sns\n",
    "import pybaseball\n",
    "\n",
    "import json\n",
    "import os\n",
    "\n",
    "\n",
    "pybaseball.cache.enable()\n",
    "pd.set_option(\"display.max_columns\", None)"
   ]
  },
  {
   "cell_type": "markdown",
   "id": "f5f20279-83f2-4d5a-8a6d-a632bad31735",
   "metadata": {},
   "source": [
    "## Data Creation and Preparation"
   ]
  },
  {
   "cell_type": "code",
   "execution_count": 166,
   "id": "5a2568e0-39dd-49e4-94a6-e5acbe765408",
   "metadata": {},
   "outputs": [],
   "source": [
    "columns = [\n",
    "    'pitcher',\n",
    "    'pitch_type',\n",
    "    #'p_throws',\n",
    "    'type',\n",
    "    'balls',\n",
    "    'strikes',\n",
    "    'on_3b',\n",
    "    'on_2b',\n",
    "    'on_1b',\n",
    "    'outs_when_up',\n",
    "    'inning',\n",
    "    'inning_topbot',\n",
    "    'home_score',\n",
    "    'away_score',\n",
    "    'post_home_score',\n",
    "    'post_away_score',\n",
    "    #'home_team',\n",
    "    #'away_team'\n",
    "]"
   ]
  },
  {
   "cell_type": "code",
   "execution_count": 167,
   "id": "9faa8cc8-72eb-4222-9f23-39f0ec516d03",
   "metadata": {},
   "outputs": [
    {
     "name": "stdout",
     "output_type": "stream",
     "text": [
      "{'STL': 0, 'TB': 1, 'ARI': 2, 'NYM': 3, 'TEX': 4, 'MIL': 5, 'MIN': 6, 'OAK': 7, 'WSH': 8, 'CIN': 9, 'BOS': 10, 'LAD': 11, 'HOU': 12, 'BAL': 13, 'CWS': 14, 'PIT': 15, 'DET': 16, 'COL': 17, 'SD': 18, 'LAA': 19, 'PHI': 20, 'SF': 21, 'SEA': 22, 'CHC': 23, 'KC': 24, 'NYY': 25, 'MIA': 26, 'CLE': 27, 'TOR': 28, 'ATL': 29}\n",
      "{'FF': 0, 'SI': 1, 'SL': 2, 'CH': 3, 'FC': 4, 'CU': 5, 'FS': 6, 'KC': 7, 'FO': 8, 'PO': 9, 'EP': 10, 'KN': 11, 'SC': 12, 'FA': 13, 'CS': 14, 'FT': 15}\n",
      "{'R': 0, 'L': 1}\n",
      "{'B': 0, 'S': 1, 'X': 2}\n",
      "{'Top': 0, 'Bot': 1}\n"
     ]
    }
   ],
   "source": [
    "def download():\n",
    "    path = './full-sample.csv'\n",
    "    if not os.path.isfile(path): \n",
    "        data = statcast(start_dt='2015-01-01', end_dt='2022-12-31')\n",
    "        data.to_csv('full-sample.csv', index=False)\n",
    "    data = pd.read_csv(path, usecols=columns)\n",
    "    data = data[data['pitch_type'].notna()]\n",
    "    return data\n",
    "\n",
    "\n",
    "def is_nan_to_bool(value):\n",
    "    if pd.isna(value):\n",
    "        return False\n",
    "    return True\n",
    "\n",
    "def swap_dictionary_key_values(dictonary):\n",
    "    return {v: k for k, v in dictonary.items()}\n",
    "\n",
    "def list_to_dictionary(list_to_convert):\n",
    "    d = dict(enumerate(list_to_convert))\n",
    "    d = swap_dictionary_key_values(d)\n",
    "    return d\n",
    "    \n",
    "def get_or_create_dictionary(df, dictionary_key):\n",
    "    dictionary = {}\n",
    "    base_path = './dictionaries'\n",
    "    if not os.path.exists(base_path):\n",
    "        os.mkdir(base_path) \n",
    "        \n",
    "    if not os.path.isfile(f'{base_path}/{dictionary_key}.json'): \n",
    "        dictionary = list_to_dictionary(data[dictionary_key].unique())\n",
    "        with open(f'{base_path}/{dictionary_key}.json', 'w') as convert_file:\n",
    "            convert_file.write(json.dumps(dictionary))\n",
    "    else:\n",
    "        with open(f'{base_path}/{dictionary_key}.json') as json_file:\n",
    "            dictionary = json.load(json_file)\n",
    "    print(dictionary)        \n",
    "    return dictionary\n",
    "\n",
    "def load_dictionaries():\n",
    "    teams_dict = get_or_create_dictionary(data,'home_team')\n",
    "    pitch_types_dict = get_or_create_dictionary(data, 'pitch_type')\n",
    "    p_throws_dict = get_or_create_dictionary(data,'p_throws')\n",
    "    result_types_dict = get_or_create_dictionary(data,'type')\n",
    "    inning_topbot_dict = get_or_create_dictionary(data,'inning_topbot')\n",
    "    return teams_dict, pitch_types_dict, p_throws_dict, result_types_dict, inning_topbot_dict\n",
    "\n",
    "\n",
    "data = download()\n",
    "\n",
    "data['on_3b'] = data['on_3b'].apply(is_nan_to_bool)\n",
    "data['on_2b'] = data['on_2b'].apply(is_nan_to_bool)\n",
    "data['on_1b'] = data['on_1b'].apply(is_nan_to_bool)\n",
    "data = data.iloc[::-1]\n",
    "\n",
    "teams_dict, pitch_types_dict, p_throws_dict, result_types_dict, inning_topbot_dict = load_dictionaries()"
   ]
  },
  {
   "cell_type": "code",
   "execution_count": 168,
   "id": "68bc813c-c80f-45e3-a052-aad4d195aa80",
   "metadata": {},
   "outputs": [],
   "source": [
    "def missing_columns(df, threshold = 70, n = None):\n",
    "    dff = df.isnull().sum()/df.shape[0] * 100\n",
    "    dff = dff.reset_index()\n",
    "    dff.columns = ['col', 'missing_percent']\n",
    "    dff = dff.sort_values(by=['missing_percent'],ascending=False).reset_index(drop=True)\n",
    "    print(f'There are {df.isnull().any().sum()} columns in this dataset with missing values.')\n",
    "    print(f'There are {dff[dff[\"missing_percent\"] > threshold].shape[0]} columns with missing percent values greater than {threshold}%')\n",
    "    if n:\n",
    "        return dff.head(n)\n",
    "    else:\n",
    "        return dff\n",
    "\n",
    "def unique_value_column(df):\n",
    "    for col in df.columns:\n",
    "        shape = df[col].value_counts().shape[0]\n",
    "        missing = round(df[col].isnull().sum()/df.shape[0] * 100, 2)\n",
    "        print(f'No of unique values in {col} is {shape} | missing percent is {missing}%')"
   ]
  },
  {
   "cell_type": "code",
   "execution_count": 169,
   "id": "eea0d80a-c6d3-4d46-8210-e2b19504b878",
   "metadata": {},
   "outputs": [
    {
     "name": "stdout",
     "output_type": "stream",
     "text": [
      "There are 0 columns in this dataset with missing values.\n",
      "There are 0 columns with missing percent values greater than 70%\n"
     ]
    },
    {
     "data": {
      "text/html": [
       "<div>\n",
       "<style scoped>\n",
       "    .dataframe tbody tr th:only-of-type {\n",
       "        vertical-align: middle;\n",
       "    }\n",
       "\n",
       "    .dataframe tbody tr th {\n",
       "        vertical-align: top;\n",
       "    }\n",
       "\n",
       "    .dataframe thead th {\n",
       "        text-align: right;\n",
       "    }\n",
       "</style>\n",
       "<table border=\"1\" class=\"dataframe\">\n",
       "  <thead>\n",
       "    <tr style=\"text-align: right;\">\n",
       "      <th></th>\n",
       "      <th>col</th>\n",
       "      <th>missing_percent</th>\n",
       "    </tr>\n",
       "  </thead>\n",
       "  <tbody>\n",
       "    <tr>\n",
       "      <th>0</th>\n",
       "      <td>pitch_type</td>\n",
       "      <td>0.0</td>\n",
       "    </tr>\n",
       "    <tr>\n",
       "      <th>1</th>\n",
       "      <td>pitcher</td>\n",
       "      <td>0.0</td>\n",
       "    </tr>\n",
       "    <tr>\n",
       "      <th>2</th>\n",
       "      <td>p_throws</td>\n",
       "      <td>0.0</td>\n",
       "    </tr>\n",
       "    <tr>\n",
       "      <th>3</th>\n",
       "      <td>type</td>\n",
       "      <td>0.0</td>\n",
       "    </tr>\n",
       "    <tr>\n",
       "      <th>4</th>\n",
       "      <td>balls</td>\n",
       "      <td>0.0</td>\n",
       "    </tr>\n",
       "    <tr>\n",
       "      <th>5</th>\n",
       "      <td>strikes</td>\n",
       "      <td>0.0</td>\n",
       "    </tr>\n",
       "    <tr>\n",
       "      <th>6</th>\n",
       "      <td>on_3b</td>\n",
       "      <td>0.0</td>\n",
       "    </tr>\n",
       "    <tr>\n",
       "      <th>7</th>\n",
       "      <td>on_2b</td>\n",
       "      <td>0.0</td>\n",
       "    </tr>\n",
       "    <tr>\n",
       "      <th>8</th>\n",
       "      <td>on_1b</td>\n",
       "      <td>0.0</td>\n",
       "    </tr>\n",
       "    <tr>\n",
       "      <th>9</th>\n",
       "      <td>outs_when_up</td>\n",
       "      <td>0.0</td>\n",
       "    </tr>\n",
       "    <tr>\n",
       "      <th>10</th>\n",
       "      <td>inning</td>\n",
       "      <td>0.0</td>\n",
       "    </tr>\n",
       "    <tr>\n",
       "      <th>11</th>\n",
       "      <td>inning_topbot</td>\n",
       "      <td>0.0</td>\n",
       "    </tr>\n",
       "    <tr>\n",
       "      <th>12</th>\n",
       "      <td>home_score</td>\n",
       "      <td>0.0</td>\n",
       "    </tr>\n",
       "    <tr>\n",
       "      <th>13</th>\n",
       "      <td>away_score</td>\n",
       "      <td>0.0</td>\n",
       "    </tr>\n",
       "    <tr>\n",
       "      <th>14</th>\n",
       "      <td>post_away_score</td>\n",
       "      <td>0.0</td>\n",
       "    </tr>\n",
       "    <tr>\n",
       "      <th>15</th>\n",
       "      <td>post_home_score</td>\n",
       "      <td>0.0</td>\n",
       "    </tr>\n",
       "  </tbody>\n",
       "</table>\n",
       "</div>"
      ],
      "text/plain": [
       "                col  missing_percent\n",
       "0        pitch_type              0.0\n",
       "1           pitcher              0.0\n",
       "2          p_throws              0.0\n",
       "3              type              0.0\n",
       "4             balls              0.0\n",
       "5           strikes              0.0\n",
       "6             on_3b              0.0\n",
       "7             on_2b              0.0\n",
       "8             on_1b              0.0\n",
       "9      outs_when_up              0.0\n",
       "10           inning              0.0\n",
       "11    inning_topbot              0.0\n",
       "12       home_score              0.0\n",
       "13       away_score              0.0\n",
       "14  post_away_score              0.0\n",
       "15  post_home_score              0.0"
      ]
     },
     "execution_count": 169,
     "metadata": {},
     "output_type": "execute_result"
    }
   ],
   "source": [
    "missing_columns(data)"
   ]
  },
  {
   "cell_type": "code",
   "execution_count": 170,
   "id": "28bc0079-7986-44cd-876d-2b4ee221a52e",
   "metadata": {},
   "outputs": [
    {
     "name": "stdout",
     "output_type": "stream",
     "text": [
      "No of unique values in pitch_type is 16 | missing percent is 0.0%\n",
      "No of unique values in pitcher is 1971 | missing percent is 0.0%\n",
      "No of unique values in p_throws is 2 | missing percent is 0.0%\n",
      "No of unique values in type is 3 | missing percent is 0.0%\n",
      "No of unique values in balls is 5 | missing percent is 0.0%\n",
      "No of unique values in strikes is 4 | missing percent is 0.0%\n",
      "No of unique values in on_3b is 2 | missing percent is 0.0%\n",
      "No of unique values in on_2b is 2 | missing percent is 0.0%\n",
      "No of unique values in on_1b is 2 | missing percent is 0.0%\n",
      "No of unique values in outs_when_up is 3 | missing percent is 0.0%\n",
      "No of unique values in inning is 19 | missing percent is 0.0%\n",
      "No of unique values in inning_topbot is 2 | missing percent is 0.0%\n",
      "No of unique values in home_score is 27 | missing percent is 0.0%\n",
      "No of unique values in away_score is 28 | missing percent is 0.0%\n",
      "No of unique values in post_away_score is 28 | missing percent is 0.0%\n",
      "No of unique values in post_home_score is 27 | missing percent is 0.0%\n"
     ]
    }
   ],
   "source": [
    "unique_value_column(data)"
   ]
  },
  {
   "cell_type": "code",
   "execution_count": 171,
   "id": "6ff39117-d389-4b7c-ad8e-e13d066ff1ff",
   "metadata": {},
   "outputs": [],
   "source": [
    "data.head(60)\n",
    "data.to_csv('essential-columns.csv', index=False)"
   ]
  },
  {
   "cell_type": "code",
   "execution_count": 173,
   "id": "5542051c-cbd7-451c-834b-9df4f05835f0",
   "metadata": {},
   "outputs": [],
   "source": [
    "data = pd.read_csv('essential-columns.csv')\n",
    "#data['home_team'] = data['home_team'].apply(lambda x: teams_dict[x])\n",
    "#data['away_team'] = data['away_team'].apply(lambda x: teams_dict[x])\n",
    "data['pitch_type'] = data['pitch_type'].apply(lambda x: pitch_types_dict[x])\n",
    "#data['p_throws'] = data['p_throws'].apply(lambda x: p_throws_dict[x])\n",
    "data['type'] = data['type'].apply(lambda x: result_types_dict[x])\n",
    "data['inning_topbot'] = data['inning_topbot'].apply(lambda x: inning_topbot_dict[x])"
   ]
  },
  {
   "cell_type": "code",
   "execution_count": 174,
   "id": "d9c5bb15-de1b-4604-9ebc-7d939cd5d40e",
   "metadata": {},
   "outputs": [
    {
     "data": {
      "text/html": [
       "<div>\n",
       "<style scoped>\n",
       "    .dataframe tbody tr th:only-of-type {\n",
       "        vertical-align: middle;\n",
       "    }\n",
       "\n",
       "    .dataframe tbody tr th {\n",
       "        vertical-align: top;\n",
       "    }\n",
       "\n",
       "    .dataframe thead th {\n",
       "        text-align: right;\n",
       "    }\n",
       "</style>\n",
       "<table border=\"1\" class=\"dataframe\">\n",
       "  <thead>\n",
       "    <tr style=\"text-align: right;\">\n",
       "      <th></th>\n",
       "      <th>pitch_type</th>\n",
       "      <th>pitcher</th>\n",
       "      <th>p_throws</th>\n",
       "      <th>type</th>\n",
       "      <th>balls</th>\n",
       "      <th>strikes</th>\n",
       "      <th>on_3b</th>\n",
       "      <th>on_2b</th>\n",
       "      <th>on_1b</th>\n",
       "      <th>outs_when_up</th>\n",
       "      <th>inning</th>\n",
       "      <th>inning_topbot</th>\n",
       "      <th>home_score</th>\n",
       "      <th>away_score</th>\n",
       "      <th>post_away_score</th>\n",
       "      <th>post_home_score</th>\n",
       "    </tr>\n",
       "  </thead>\n",
       "  <tbody>\n",
       "    <tr>\n",
       "      <th>0</th>\n",
       "      <td>0</td>\n",
       "      <td>593372</td>\n",
       "      <td>0</td>\n",
       "      <td>0</td>\n",
       "      <td>0</td>\n",
       "      <td>0</td>\n",
       "      <td>False</td>\n",
       "      <td>False</td>\n",
       "      <td>False</td>\n",
       "      <td>0</td>\n",
       "      <td>1</td>\n",
       "      <td>0</td>\n",
       "      <td>0</td>\n",
       "      <td>0</td>\n",
       "      <td>0</td>\n",
       "      <td>0</td>\n",
       "    </tr>\n",
       "    <tr>\n",
       "      <th>1</th>\n",
       "      <td>1</td>\n",
       "      <td>593372</td>\n",
       "      <td>0</td>\n",
       "      <td>1</td>\n",
       "      <td>1</td>\n",
       "      <td>0</td>\n",
       "      <td>False</td>\n",
       "      <td>False</td>\n",
       "      <td>False</td>\n",
       "      <td>0</td>\n",
       "      <td>1</td>\n",
       "      <td>0</td>\n",
       "      <td>0</td>\n",
       "      <td>0</td>\n",
       "      <td>0</td>\n",
       "      <td>0</td>\n",
       "    </tr>\n",
       "    <tr>\n",
       "      <th>2</th>\n",
       "      <td>1</td>\n",
       "      <td>593372</td>\n",
       "      <td>0</td>\n",
       "      <td>0</td>\n",
       "      <td>1</td>\n",
       "      <td>1</td>\n",
       "      <td>False</td>\n",
       "      <td>False</td>\n",
       "      <td>False</td>\n",
       "      <td>0</td>\n",
       "      <td>1</td>\n",
       "      <td>0</td>\n",
       "      <td>0</td>\n",
       "      <td>0</td>\n",
       "      <td>0</td>\n",
       "      <td>0</td>\n",
       "    </tr>\n",
       "    <tr>\n",
       "      <th>3</th>\n",
       "      <td>2</td>\n",
       "      <td>593372</td>\n",
       "      <td>0</td>\n",
       "      <td>2</td>\n",
       "      <td>2</td>\n",
       "      <td>1</td>\n",
       "      <td>False</td>\n",
       "      <td>False</td>\n",
       "      <td>False</td>\n",
       "      <td>0</td>\n",
       "      <td>1</td>\n",
       "      <td>0</td>\n",
       "      <td>0</td>\n",
       "      <td>0</td>\n",
       "      <td>0</td>\n",
       "      <td>0</td>\n",
       "    </tr>\n",
       "    <tr>\n",
       "      <th>4</th>\n",
       "      <td>1</td>\n",
       "      <td>593372</td>\n",
       "      <td>0</td>\n",
       "      <td>1</td>\n",
       "      <td>0</td>\n",
       "      <td>0</td>\n",
       "      <td>False</td>\n",
       "      <td>False</td>\n",
       "      <td>True</td>\n",
       "      <td>0</td>\n",
       "      <td>1</td>\n",
       "      <td>0</td>\n",
       "      <td>0</td>\n",
       "      <td>0</td>\n",
       "      <td>0</td>\n",
       "      <td>0</td>\n",
       "    </tr>\n",
       "    <tr>\n",
       "      <th>5</th>\n",
       "      <td>1</td>\n",
       "      <td>593372</td>\n",
       "      <td>0</td>\n",
       "      <td>0</td>\n",
       "      <td>0</td>\n",
       "      <td>1</td>\n",
       "      <td>False</td>\n",
       "      <td>False</td>\n",
       "      <td>True</td>\n",
       "      <td>0</td>\n",
       "      <td>1</td>\n",
       "      <td>0</td>\n",
       "      <td>0</td>\n",
       "      <td>0</td>\n",
       "      <td>0</td>\n",
       "      <td>0</td>\n",
       "    </tr>\n",
       "    <tr>\n",
       "      <th>6</th>\n",
       "      <td>2</td>\n",
       "      <td>593372</td>\n",
       "      <td>0</td>\n",
       "      <td>0</td>\n",
       "      <td>1</td>\n",
       "      <td>1</td>\n",
       "      <td>False</td>\n",
       "      <td>False</td>\n",
       "      <td>True</td>\n",
       "      <td>0</td>\n",
       "      <td>1</td>\n",
       "      <td>0</td>\n",
       "      <td>0</td>\n",
       "      <td>0</td>\n",
       "      <td>0</td>\n",
       "      <td>0</td>\n",
       "    </tr>\n",
       "    <tr>\n",
       "      <th>7</th>\n",
       "      <td>2</td>\n",
       "      <td>593372</td>\n",
       "      <td>0</td>\n",
       "      <td>1</td>\n",
       "      <td>2</td>\n",
       "      <td>1</td>\n",
       "      <td>False</td>\n",
       "      <td>False</td>\n",
       "      <td>True</td>\n",
       "      <td>0</td>\n",
       "      <td>1</td>\n",
       "      <td>0</td>\n",
       "      <td>0</td>\n",
       "      <td>0</td>\n",
       "      <td>0</td>\n",
       "      <td>0</td>\n",
       "    </tr>\n",
       "    <tr>\n",
       "      <th>8</th>\n",
       "      <td>0</td>\n",
       "      <td>593372</td>\n",
       "      <td>0</td>\n",
       "      <td>1</td>\n",
       "      <td>2</td>\n",
       "      <td>2</td>\n",
       "      <td>False</td>\n",
       "      <td>False</td>\n",
       "      <td>True</td>\n",
       "      <td>0</td>\n",
       "      <td>1</td>\n",
       "      <td>0</td>\n",
       "      <td>0</td>\n",
       "      <td>0</td>\n",
       "      <td>0</td>\n",
       "      <td>0</td>\n",
       "    </tr>\n",
       "    <tr>\n",
       "      <th>9</th>\n",
       "      <td>0</td>\n",
       "      <td>593372</td>\n",
       "      <td>0</td>\n",
       "      <td>0</td>\n",
       "      <td>0</td>\n",
       "      <td>0</td>\n",
       "      <td>False</td>\n",
       "      <td>False</td>\n",
       "      <td>True</td>\n",
       "      <td>1</td>\n",
       "      <td>1</td>\n",
       "      <td>0</td>\n",
       "      <td>0</td>\n",
       "      <td>0</td>\n",
       "      <td>0</td>\n",
       "      <td>0</td>\n",
       "    </tr>\n",
       "    <tr>\n",
       "      <th>10</th>\n",
       "      <td>3</td>\n",
       "      <td>593372</td>\n",
       "      <td>0</td>\n",
       "      <td>1</td>\n",
       "      <td>1</td>\n",
       "      <td>0</td>\n",
       "      <td>False</td>\n",
       "      <td>False</td>\n",
       "      <td>True</td>\n",
       "      <td>1</td>\n",
       "      <td>1</td>\n",
       "      <td>0</td>\n",
       "      <td>0</td>\n",
       "      <td>0</td>\n",
       "      <td>0</td>\n",
       "      <td>0</td>\n",
       "    </tr>\n",
       "    <tr>\n",
       "      <th>11</th>\n",
       "      <td>0</td>\n",
       "      <td>593372</td>\n",
       "      <td>0</td>\n",
       "      <td>2</td>\n",
       "      <td>1</td>\n",
       "      <td>1</td>\n",
       "      <td>False</td>\n",
       "      <td>False</td>\n",
       "      <td>True</td>\n",
       "      <td>1</td>\n",
       "      <td>1</td>\n",
       "      <td>0</td>\n",
       "      <td>0</td>\n",
       "      <td>0</td>\n",
       "      <td>0</td>\n",
       "      <td>0</td>\n",
       "    </tr>\n",
       "    <tr>\n",
       "      <th>12</th>\n",
       "      <td>3</td>\n",
       "      <td>593372</td>\n",
       "      <td>0</td>\n",
       "      <td>0</td>\n",
       "      <td>0</td>\n",
       "      <td>0</td>\n",
       "      <td>False</td>\n",
       "      <td>True</td>\n",
       "      <td>True</td>\n",
       "      <td>1</td>\n",
       "      <td>1</td>\n",
       "      <td>0</td>\n",
       "      <td>0</td>\n",
       "      <td>0</td>\n",
       "      <td>0</td>\n",
       "      <td>0</td>\n",
       "    </tr>\n",
       "    <tr>\n",
       "      <th>13</th>\n",
       "      <td>3</td>\n",
       "      <td>593372</td>\n",
       "      <td>0</td>\n",
       "      <td>1</td>\n",
       "      <td>1</td>\n",
       "      <td>0</td>\n",
       "      <td>False</td>\n",
       "      <td>True</td>\n",
       "      <td>True</td>\n",
       "      <td>1</td>\n",
       "      <td>1</td>\n",
       "      <td>0</td>\n",
       "      <td>0</td>\n",
       "      <td>0</td>\n",
       "      <td>0</td>\n",
       "      <td>0</td>\n",
       "    </tr>\n",
       "    <tr>\n",
       "      <th>14</th>\n",
       "      <td>3</td>\n",
       "      <td>593372</td>\n",
       "      <td>0</td>\n",
       "      <td>1</td>\n",
       "      <td>1</td>\n",
       "      <td>1</td>\n",
       "      <td>False</td>\n",
       "      <td>True</td>\n",
       "      <td>True</td>\n",
       "      <td>1</td>\n",
       "      <td>1</td>\n",
       "      <td>0</td>\n",
       "      <td>0</td>\n",
       "      <td>0</td>\n",
       "      <td>0</td>\n",
       "      <td>0</td>\n",
       "    </tr>\n",
       "    <tr>\n",
       "      <th>15</th>\n",
       "      <td>0</td>\n",
       "      <td>593372</td>\n",
       "      <td>0</td>\n",
       "      <td>2</td>\n",
       "      <td>1</td>\n",
       "      <td>2</td>\n",
       "      <td>False</td>\n",
       "      <td>True</td>\n",
       "      <td>True</td>\n",
       "      <td>1</td>\n",
       "      <td>1</td>\n",
       "      <td>0</td>\n",
       "      <td>0</td>\n",
       "      <td>0</td>\n",
       "      <td>0</td>\n",
       "      <td>0</td>\n",
       "    </tr>\n",
       "    <tr>\n",
       "      <th>16</th>\n",
       "      <td>0</td>\n",
       "      <td>452657</td>\n",
       "      <td>1</td>\n",
       "      <td>0</td>\n",
       "      <td>0</td>\n",
       "      <td>0</td>\n",
       "      <td>False</td>\n",
       "      <td>False</td>\n",
       "      <td>False</td>\n",
       "      <td>0</td>\n",
       "      <td>1</td>\n",
       "      <td>1</td>\n",
       "      <td>0</td>\n",
       "      <td>0</td>\n",
       "      <td>0</td>\n",
       "      <td>0</td>\n",
       "    </tr>\n",
       "    <tr>\n",
       "      <th>17</th>\n",
       "      <td>1</td>\n",
       "      <td>452657</td>\n",
       "      <td>1</td>\n",
       "      <td>0</td>\n",
       "      <td>1</td>\n",
       "      <td>0</td>\n",
       "      <td>False</td>\n",
       "      <td>False</td>\n",
       "      <td>False</td>\n",
       "      <td>0</td>\n",
       "      <td>1</td>\n",
       "      <td>1</td>\n",
       "      <td>0</td>\n",
       "      <td>0</td>\n",
       "      <td>0</td>\n",
       "      <td>0</td>\n",
       "    </tr>\n",
       "    <tr>\n",
       "      <th>18</th>\n",
       "      <td>1</td>\n",
       "      <td>452657</td>\n",
       "      <td>1</td>\n",
       "      <td>2</td>\n",
       "      <td>2</td>\n",
       "      <td>0</td>\n",
       "      <td>False</td>\n",
       "      <td>False</td>\n",
       "      <td>False</td>\n",
       "      <td>0</td>\n",
       "      <td>1</td>\n",
       "      <td>1</td>\n",
       "      <td>0</td>\n",
       "      <td>0</td>\n",
       "      <td>0</td>\n",
       "      <td>0</td>\n",
       "    </tr>\n",
       "    <tr>\n",
       "      <th>19</th>\n",
       "      <td>0</td>\n",
       "      <td>452657</td>\n",
       "      <td>1</td>\n",
       "      <td>0</td>\n",
       "      <td>0</td>\n",
       "      <td>0</td>\n",
       "      <td>False</td>\n",
       "      <td>False</td>\n",
       "      <td>False</td>\n",
       "      <td>1</td>\n",
       "      <td>1</td>\n",
       "      <td>1</td>\n",
       "      <td>0</td>\n",
       "      <td>0</td>\n",
       "      <td>0</td>\n",
       "      <td>0</td>\n",
       "    </tr>\n",
       "    <tr>\n",
       "      <th>20</th>\n",
       "      <td>0</td>\n",
       "      <td>452657</td>\n",
       "      <td>1</td>\n",
       "      <td>2</td>\n",
       "      <td>1</td>\n",
       "      <td>0</td>\n",
       "      <td>False</td>\n",
       "      <td>False</td>\n",
       "      <td>False</td>\n",
       "      <td>1</td>\n",
       "      <td>1</td>\n",
       "      <td>1</td>\n",
       "      <td>0</td>\n",
       "      <td>0</td>\n",
       "      <td>0</td>\n",
       "      <td>0</td>\n",
       "    </tr>\n",
       "    <tr>\n",
       "      <th>21</th>\n",
       "      <td>0</td>\n",
       "      <td>452657</td>\n",
       "      <td>1</td>\n",
       "      <td>1</td>\n",
       "      <td>0</td>\n",
       "      <td>0</td>\n",
       "      <td>False</td>\n",
       "      <td>True</td>\n",
       "      <td>False</td>\n",
       "      <td>1</td>\n",
       "      <td>1</td>\n",
       "      <td>1</td>\n",
       "      <td>0</td>\n",
       "      <td>0</td>\n",
       "      <td>0</td>\n",
       "      <td>0</td>\n",
       "    </tr>\n",
       "    <tr>\n",
       "      <th>22</th>\n",
       "      <td>4</td>\n",
       "      <td>452657</td>\n",
       "      <td>1</td>\n",
       "      <td>1</td>\n",
       "      <td>0</td>\n",
       "      <td>1</td>\n",
       "      <td>False</td>\n",
       "      <td>True</td>\n",
       "      <td>False</td>\n",
       "      <td>1</td>\n",
       "      <td>1</td>\n",
       "      <td>1</td>\n",
       "      <td>0</td>\n",
       "      <td>0</td>\n",
       "      <td>0</td>\n",
       "      <td>0</td>\n",
       "    </tr>\n",
       "    <tr>\n",
       "      <th>23</th>\n",
       "      <td>4</td>\n",
       "      <td>452657</td>\n",
       "      <td>1</td>\n",
       "      <td>0</td>\n",
       "      <td>0</td>\n",
       "      <td>2</td>\n",
       "      <td>False</td>\n",
       "      <td>True</td>\n",
       "      <td>False</td>\n",
       "      <td>1</td>\n",
       "      <td>1</td>\n",
       "      <td>1</td>\n",
       "      <td>0</td>\n",
       "      <td>0</td>\n",
       "      <td>0</td>\n",
       "      <td>0</td>\n",
       "    </tr>\n",
       "    <tr>\n",
       "      <th>24</th>\n",
       "      <td>1</td>\n",
       "      <td>452657</td>\n",
       "      <td>1</td>\n",
       "      <td>0</td>\n",
       "      <td>1</td>\n",
       "      <td>2</td>\n",
       "      <td>False</td>\n",
       "      <td>True</td>\n",
       "      <td>False</td>\n",
       "      <td>1</td>\n",
       "      <td>1</td>\n",
       "      <td>1</td>\n",
       "      <td>0</td>\n",
       "      <td>0</td>\n",
       "      <td>0</td>\n",
       "      <td>0</td>\n",
       "    </tr>\n",
       "  </tbody>\n",
       "</table>\n",
       "</div>"
      ],
      "text/plain": [
       "    pitch_type  pitcher  p_throws  type  balls  strikes  on_3b  on_2b  on_1b  \\\n",
       "0            0   593372         0     0      0        0  False  False  False   \n",
       "1            1   593372         0     1      1        0  False  False  False   \n",
       "2            1   593372         0     0      1        1  False  False  False   \n",
       "3            2   593372         0     2      2        1  False  False  False   \n",
       "4            1   593372         0     1      0        0  False  False   True   \n",
       "5            1   593372         0     0      0        1  False  False   True   \n",
       "6            2   593372         0     0      1        1  False  False   True   \n",
       "7            2   593372         0     1      2        1  False  False   True   \n",
       "8            0   593372         0     1      2        2  False  False   True   \n",
       "9            0   593372         0     0      0        0  False  False   True   \n",
       "10           3   593372         0     1      1        0  False  False   True   \n",
       "11           0   593372         0     2      1        1  False  False   True   \n",
       "12           3   593372         0     0      0        0  False   True   True   \n",
       "13           3   593372         0     1      1        0  False   True   True   \n",
       "14           3   593372         0     1      1        1  False   True   True   \n",
       "15           0   593372         0     2      1        2  False   True   True   \n",
       "16           0   452657         1     0      0        0  False  False  False   \n",
       "17           1   452657         1     0      1        0  False  False  False   \n",
       "18           1   452657         1     2      2        0  False  False  False   \n",
       "19           0   452657         1     0      0        0  False  False  False   \n",
       "20           0   452657         1     2      1        0  False  False  False   \n",
       "21           0   452657         1     1      0        0  False   True  False   \n",
       "22           4   452657         1     1      0        1  False   True  False   \n",
       "23           4   452657         1     0      0        2  False   True  False   \n",
       "24           1   452657         1     0      1        2  False   True  False   \n",
       "\n",
       "    outs_when_up  inning  inning_topbot  home_score  away_score  \\\n",
       "0              0       1              0           0           0   \n",
       "1              0       1              0           0           0   \n",
       "2              0       1              0           0           0   \n",
       "3              0       1              0           0           0   \n",
       "4              0       1              0           0           0   \n",
       "5              0       1              0           0           0   \n",
       "6              0       1              0           0           0   \n",
       "7              0       1              0           0           0   \n",
       "8              0       1              0           0           0   \n",
       "9              1       1              0           0           0   \n",
       "10             1       1              0           0           0   \n",
       "11             1       1              0           0           0   \n",
       "12             1       1              0           0           0   \n",
       "13             1       1              0           0           0   \n",
       "14             1       1              0           0           0   \n",
       "15             1       1              0           0           0   \n",
       "16             0       1              1           0           0   \n",
       "17             0       1              1           0           0   \n",
       "18             0       1              1           0           0   \n",
       "19             1       1              1           0           0   \n",
       "20             1       1              1           0           0   \n",
       "21             1       1              1           0           0   \n",
       "22             1       1              1           0           0   \n",
       "23             1       1              1           0           0   \n",
       "24             1       1              1           0           0   \n",
       "\n",
       "    post_away_score  post_home_score  \n",
       "0                 0                0  \n",
       "1                 0                0  \n",
       "2                 0                0  \n",
       "3                 0                0  \n",
       "4                 0                0  \n",
       "5                 0                0  \n",
       "6                 0                0  \n",
       "7                 0                0  \n",
       "8                 0                0  \n",
       "9                 0                0  \n",
       "10                0                0  \n",
       "11                0                0  \n",
       "12                0                0  \n",
       "13                0                0  \n",
       "14                0                0  \n",
       "15                0                0  \n",
       "16                0                0  \n",
       "17                0                0  \n",
       "18                0                0  \n",
       "19                0                0  \n",
       "20                0                0  \n",
       "21                0                0  \n",
       "22                0                0  \n",
       "23                0                0  \n",
       "24                0                0  "
      ]
     },
     "execution_count": 174,
     "metadata": {},
     "output_type": "execute_result"
    }
   ],
   "source": [
    "data.head(25)"
   ]
  },
  {
   "cell_type": "code",
   "execution_count": 175,
   "id": "71e5851d-3820-4ed2-bb3f-5cf34f9e23db",
   "metadata": {},
   "outputs": [],
   "source": [
    "pitchers = data['pitcher'].unique()\n",
    "base_path = './pitchers'\n",
    "if not os.path.exists(base_path):\n",
    "    os.mkdir(base_path)\n",
    "\n",
    "for pitcher in pitchers:\n",
    "    path = f'{base_path}/{pitcher}.csv'\n",
    "    df = data[data['pitcher'] == pitcher]\n",
    "    df = df.drop(['pitcher'], axis='columns')\n",
    "    df['on_3b'] = df['on_3b'].apply(is_nan_to_bool)\n",
    "    df['on_2b'] = df['on_2b'].apply(is_nan_to_bool)\n",
    "    df['on_1b'] = df['on_1b'].apply(is_nan_to_bool)\n",
    "    df.to_csv(path, index=False)\n",
    "    "
   ]
  },
  {
   "cell_type": "markdown",
   "id": "2f43c23c-f80d-4c9c-949c-d5d15c397506",
   "metadata": {},
   "source": [
    "## Model Testing"
   ]
  },
  {
   "cell_type": "code",
   "execution_count": 176,
   "id": "038a7e58-43e4-457b-9fb3-022db422e30f",
   "metadata": {},
   "outputs": [
    {
     "name": "stdout",
     "output_type": "stream",
     "text": [
      "os              : Windows-10-10.0.22621-SP0\n",
      "python          : 3.10.2\n",
      "tsai            : 0.3.3\n",
      "fastai          : 2.7.10\n",
      "fastcore        : 1.5.27\n",
      "torch           : 1.13.0+cu116\n",
      "device          : 1 gpu (['NVIDIA GeForce GTX 1660 Ti'])\n",
      "cpu cores       : 8\n",
      "threads per cpu : 2\n",
      "RAM             : 31.36 GB\n",
      "GPU memory      : [6.0] GB\n"
     ]
    },
    {
     "data": {
      "text/plain": [
       "device(type='cuda', index=0)"
      ]
     },
     "execution_count": 176,
     "metadata": {},
     "output_type": "execute_result"
    }
   ],
   "source": [
    "import tensorflow as tf\n",
    "import os\n",
    "import pandas as pd\n",
    "import sklearn\n",
    "import numpy as np\n",
    "from tsai.models.MINIROCKET_Pytorch import *\n",
    "from tsai.models.utils import *\n",
    "from tsai.all import *\n",
    "computer_setup()\n",
    "\n",
    "device = torch.device(\"cuda:0\" if torch.cuda.is_available() else \"cpu\")\n",
    "device"
   ]
  },
  {
   "cell_type": "code",
   "execution_count": 196,
   "id": "ee7e10f5-8af2-4407-ad39-9cf094ba2372",
   "metadata": {},
   "outputs": [],
   "source": [
    "def df_to_X_y2(df: pd.DataFrame, target_column, window_size = 5):\n",
    "    df_2 = df.drop(target_column, axis='columns')\n",
    "    df_as_np = df_2.to_numpy()\n",
    "    X = []\n",
    "    y = []\n",
    "    for i in range(len(df_as_np) - window_size):\n",
    "        row = [r for r in df_as_np[i:i + window_size]]\n",
    "        X.append(row)\n",
    "        label = df.iloc[i + window_size][target_column]\n",
    "        y.append(label)\n",
    "    return np.array(X), np.array(y)\n",
    "\n"
   ]
  },
  {
   "cell_type": "code",
   "execution_count": 214,
   "id": "10c161bb-25e0-4a7a-9312-9720611b6dda",
   "metadata": {},
   "outputs": [
    {
     "name": "stdout",
     "output_type": "stream",
     "text": [
      "{'STL': 0, 'TB': 1, 'ARI': 2, 'NYM': 3, 'TEX': 4, 'MIL': 5, 'MIN': 6, 'OAK': 7, 'WSH': 8, 'CIN': 9, 'BOS': 10, 'LAD': 11, 'HOU': 12, 'BAL': 13, 'CWS': 14, 'PIT': 15, 'DET': 16, 'COL': 17, 'SD': 18, 'LAA': 19, 'PHI': 20, 'SF': 21, 'SEA': 22, 'CHC': 23, 'KC': 24, 'NYY': 25, 'MIA': 26, 'CLE': 27, 'TOR': 28, 'ATL': 29}\n",
      "{'FF': 0, 'SI': 1, 'SL': 2, 'CH': 3, 'FC': 4, 'CU': 5, 'FS': 6, 'KC': 7, 'FO': 8, 'PO': 9, 'EP': 10, 'KN': 11, 'SC': 12, 'FA': 13, 'CS': 14, 'FT': 15}\n",
      "{'R': 0, 'L': 1}\n",
      "{'B': 0, 'S': 1, 'X': 2}\n",
      "{'Top': 0, 'Bot': 1}\n"
     ]
    }
   ],
   "source": [
    "data = pd.read_csv('essential-columns.csv')\n",
    "teams_dict, pitch_types_dict, p_throws_dict, result_types_dict, inning_topbot_dict = load_dictionaries()"
   ]
  },
  {
   "cell_type": "code",
   "execution_count": 215,
   "id": "2458440c-de7a-4ebf-bbb2-e33012bdf4cb",
   "metadata": {},
   "outputs": [],
   "source": [
    "test_df = pd.read_csv('./pitchers/645261.csv')\n",
    "test_df.on_3b = test_df.on_3b.replace({True: 1, False: 0})\n",
    "test_df.on_2b = test_df.on_2b.replace({True: 1, False: 0})\n",
    "test_df.on_1b = test_df.on_1b.replace({True: 1, False: 0})\n",
    "X, y = df_to_X_y2(test_df, 'pitch_type', 10)\n"
   ]
  },
  {
   "cell_type": "code",
   "execution_count": 216,
   "id": "410f7441-a3e3-4df2-9402-b4a30d7400ba",
   "metadata": {},
   "outputs": [
    {
     "data": {
      "image/png": "[encoded data removed]",
      "text/plain": [
       "<Figure size 1152x36 with 1 Axes>"
      ]
     },
     "metadata": {
      "needs_background": "light"
     },
     "output_type": "display_data"
    },
    {
     "data": {
      "text/plain": [
       "((#7874) [0,1,2,3,4,5,6,7,8,9...],\n",
       " (#3374) [7874,7875,7876,7877,7878,7879,7880,7881,7882,7883...])"
      ]
     },
     "execution_count": 216,
     "metadata": {},
     "output_type": "execute_result"
    }
   ],
   "source": [
    "splits = get_splits(y, valid_size=.3, stratify=True, random_state=23, shuffle=False)\n",
    "splits"
   ]
  },
  {
   "cell_type": "code",
   "execution_count": 217,
   "id": "277e46af-db5c-45e8-a432-30e8762c7fd3",
   "metadata": {},
   "outputs": [],
   "source": [
    "#X = torch.from_numpy(X).float().to(device)\n",
    "#y = torch.from_numpy(y).float().to(device)"
   ]
  },
  {
   "cell_type": "code",
   "execution_count": 218,
   "id": "4e6b367a-1c8e-4106-8d18-e00e7c9de11d",
   "metadata": {},
   "outputs": [
    {
     "data": {
      "text/plain": [
       "numpy.int64"
      ]
     },
     "execution_count": 218,
     "metadata": {},
     "output_type": "execute_result"
    }
   ],
   "source": [
    "X_train = X[splits[0]]\n",
    "type(X_train[0][0][0])"
   ]
  },
  {
   "cell_type": "code",
   "execution_count": 224,
   "id": "dea8b876-b28e-4a72-800f-9dd4ddb80854",
   "metadata": {},
   "outputs": [
    {
     "data": {
      "text/plain": [
       "((11248, 9996, 1), numpy.ndarray)"
      ]
     },
     "execution_count": 224,
     "metadata": {},
     "output_type": "execute_result"
    }
   ],
   "source": [
    "mrf = MiniRocketFeatures(X.shape[1], X.shape[2]).to(device)\n",
    "X_train = X[splits[0]]\n",
    "X_train = torch.from_numpy(X_train).float().to(device)\n",
    "mrf.fit(X_train)\n",
    "X_feat = get_minirocket_features(torch.from_numpy(X).float().to(device), mrf, chunksize=20, to_np=True)\n",
    "X_feat.shape, type(X_feat)"
   ]
  },
  {
   "cell_type": "code",
   "execution_count": 225,
   "id": "3a81e00c-e5bf-4743-b2ba-9f9ada6720ad",
   "metadata": {},
   "outputs": [],
   "source": [
    "PATH = Path(\"./models/MRF.pt\")\n",
    "PATH.parent.mkdir(parents=True, exist_ok=True)\n",
    "torch.save(mrf.state_dict(), PATH)"
   ]
  },
  {
   "cell_type": "code",
   "execution_count": 226,
   "id": "872a2785-078e-425e-a458-b8761ef9788a",
   "metadata": {},
   "outputs": [
    {
     "data": {
      "text/plain": [
       "Sequential(\n",
       "  (0): Flatten(start_dim=1, end_dim=-1)\n",
       "  (1): BatchNorm1d(9996, eps=1e-05, momentum=0.1, affine=True, track_running_stats=True)\n",
       "  (2): Linear(in_features=9996, out_features=5, bias=True)\n",
       ")"
      ]
     },
     "execution_count": 226,
     "metadata": {},
     "output_type": "execute_result"
    }
   ],
   "source": [
    "# Using tsai/fastai, create DataLoaders for the features in X_feat.\n",
    "tfms = [None, TSClassification()]\n",
    "batch_tfms = TSStandardize(by_sample=True)\n",
    "dls = get_ts_dls(X_feat, y, splits=splits, tfms=tfms, batch_tfms=batch_tfms)\n",
    "                 \n",
    "# model is a linear classifier Head\n",
    "model = build_ts_model(MiniRocketHead, dls=dls)\n",
    "model.head"
   ]
  },
  {
   "cell_type": "code",
   "execution_count": 227,
   "id": "9c8ecb2f-e7e7-4c79-a63e-bef4514f0871",
   "metadata": {},
   "outputs": [
    {
     "data": {
      "text/html": [
       "\n",
       "<style>\n",
       "    /* Turns off some styling */\n",
       "    progress {\n",
       "        /* gets rid of default border in Firefox and Opera. */\n",
       "        border: none;\n",
       "        /* Needs to be in here for Safari polyfill so background images work as expected. */\n",
       "        background-size: auto;\n",
       "    }\n",
       "    progress:not([value]), progress:not([value])::-webkit-progress-bar {\n",
       "        background: repeating-linear-gradient(45deg, #7e7e7e, #7e7e7e 10px, #5c5c5c 10px, #5c5c5c 20px);\n",
       "    }\n",
       "    .progress-bar-interrupted, .progress-bar-interrupted::-webkit-progress-bar {\n",
       "        background: #F44336;\n",
       "    }\n",
       "</style>\n"
      ],
      "text/plain": [
       "<IPython.core.display.HTML object>"
      ]
     },
     "metadata": {},
     "output_type": "display_data"
    },
    {
     "data": {
      "text/html": [],
      "text/plain": [
       "<IPython.core.display.HTML object>"
      ]
     },
     "metadata": {},
     "output_type": "display_data"
    },
    {
     "data": {
      "text/plain": [
       "SuggestedLRs(valley=1.4454397387453355e-05)"
      ]
     },
     "execution_count": 227,
     "metadata": {},
     "output_type": "execute_result"
    },
    {
     "data": {
      "image/png": "[encoded data removed]",
      "text/plain": [
       "<Figure size 432x288 with 1 Axes>"
      ]
     },
     "metadata": {
      "needs_background": "light"
     },
     "output_type": "display_data"
    }
   ],
   "source": [
    "# Using tsai/fastai, create DataLoaders for the features in X_feat.\n",
    "tfms = [None, TSClassification()]\n",
    "batch_tfms = TSStandardize(by_sample=True)\n",
    "dls = get_ts_dls(X_feat, y, splits=splits, tfms=tfms, batch_tfms=batch_tfms)\n",
    "                 \n",
    "# model is a linear classifier Head\n",
    "model = build_ts_model(MiniRocketHead, dls=dls)\n",
    "                 \n",
    "# Drop into fastai and use it to find a good learning rate.\n",
    "learn = Learner(dls, model, metrics=accuracy, cbs=ShowGraph())\n",
    "learn.lr_find()"
   ]
  },
  {
   "cell_type": "code",
   "execution_count": 228,
   "id": "79b1720b-bdc9-4fb8-b624-f8151d7bf116",
   "metadata": {},
   "outputs": [
    {
     "data": {
      "text/html": [
       "\n",
       "<style>\n",
       "    /* Turns off some styling */\n",
       "    progress {\n",
       "        /* gets rid of default border in Firefox and Opera. */\n",
       "        border: none;\n",
       "        /* Needs to be in here for Safari polyfill so background images work as expected. */\n",
       "        background-size: auto;\n",
       "    }\n",
       "    progress:not([value]), progress:not([value])::-webkit-progress-bar {\n",
       "        background: repeating-linear-gradient(45deg, #7e7e7e, #7e7e7e 10px, #5c5c5c 10px, #5c5c5c 20px);\n",
       "    }\n",
       "    .progress-bar-interrupted, .progress-bar-interrupted::-webkit-progress-bar {\n",
       "        background: #F44336;\n",
       "    }\n",
       "</style>\n"
      ],
      "text/plain": [
       "<IPython.core.display.HTML object>"
      ]
     },
     "metadata": {},
     "output_type": "display_data"
    },
    {
     "data": {
      "text/html": [
       "<table border=\"1\" class=\"dataframe\">\n",
       "  <thead>\n",
       "    <tr style=\"text-align: left;\">\n",
       "      <th>epoch</th>\n",
       "      <th>train_loss</th>\n",
       "      <th>valid_loss</th>\n",
       "      <th>accuracy</th>\n",
       "      <th>time</th>\n",
       "    </tr>\n",
       "  </thead>\n",
       "  <tbody>\n",
       "    <tr>\n",
       "      <td>0</td>\n",
       "      <td>1.601824</td>\n",
       "      <td>1.624218</td>\n",
       "      <td>0.262596</td>\n",
       "      <td>00:01</td>\n",
       "    </tr>\n",
       "    <tr>\n",
       "      <td>1</td>\n",
       "      <td>1.604200</td>\n",
       "      <td>1.704898</td>\n",
       "      <td>0.234736</td>\n",
       "      <td>00:01</td>\n",
       "    </tr>\n",
       "    <tr>\n",
       "      <td>2</td>\n",
       "      <td>1.545004</td>\n",
       "      <td>1.719615</td>\n",
       "      <td>0.244813</td>\n",
       "      <td>00:01</td>\n",
       "    </tr>\n",
       "    <tr>\n",
       "      <td>3</td>\n",
       "      <td>1.491068</td>\n",
       "      <td>1.705184</td>\n",
       "      <td>0.239478</td>\n",
       "      <td>00:01</td>\n",
       "    </tr>\n",
       "    <tr>\n",
       "      <td>4</td>\n",
       "      <td>1.441931</td>\n",
       "      <td>1.649433</td>\n",
       "      <td>0.241553</td>\n",
       "      <td>00:01</td>\n",
       "    </tr>\n",
       "    <tr>\n",
       "      <td>5</td>\n",
       "      <td>1.377085</td>\n",
       "      <td>1.635890</td>\n",
       "      <td>0.247777</td>\n",
       "      <td>00:01</td>\n",
       "    </tr>\n",
       "    <tr>\n",
       "      <td>6</td>\n",
       "      <td>1.335374</td>\n",
       "      <td>1.674147</td>\n",
       "      <td>0.251630</td>\n",
       "      <td>00:01</td>\n",
       "    </tr>\n",
       "    <tr>\n",
       "      <td>7</td>\n",
       "      <td>1.287491</td>\n",
       "      <td>1.633561</td>\n",
       "      <td>0.250445</td>\n",
       "      <td>00:01</td>\n",
       "    </tr>\n",
       "    <tr>\n",
       "      <td>8</td>\n",
       "      <td>1.252049</td>\n",
       "      <td>1.628001</td>\n",
       "      <td>0.244517</td>\n",
       "      <td>00:01</td>\n",
       "    </tr>\n",
       "    <tr>\n",
       "      <td>9</td>\n",
       "      <td>1.228421</td>\n",
       "      <td>1.626982</td>\n",
       "      <td>0.248370</td>\n",
       "      <td>00:01</td>\n",
       "    </tr>\n",
       "  </tbody>\n",
       "</table>"
      ],
      "text/plain": [
       "<IPython.core.display.HTML object>"
      ]
     },
     "metadata": {},
     "output_type": "display_data"
    },
    {
     "data": {
      "image/png": "[encoded data removed]",
      "text/plain": [
       "<Figure size 432x288 with 1 Axes>"
      ]
     },
     "metadata": {},
     "output_type": "display_data"
    },
    {
     "data": {
      "image/png": "[encoded data removed]",
      "text/plain": [
       "<Figure size 1440x288 with 3 Axes>"
      ]
     },
     "metadata": {
      "needs_background": "light"
     },
     "output_type": "display_data"
    },
    {
     "name": "stdout",
     "output_type": "stream",
     "text": [
      "Total time              : 13.450377\n"
     ]
    },
    {
     "data": {
      "text/plain": [
       "13.450377"
      ]
     },
     "execution_count": 228,
     "metadata": {},
     "output_type": "execute_result"
    }
   ],
   "source": [
    "# As above, use tsai to bring X_feat into fastai, and train.\n",
    "tfms = [None, TSClassification()]\n",
    "batch_tfms = TSStandardize(by_sample=True)\n",
    "dls = get_ts_dls(X_feat, y, splits=splits, tfms=tfms, batch_tfms=batch_tfms)\n",
    "model = build_ts_model(MiniRocketHead, dls=dls)\n",
    "learn = Learner(dls, model, metrics=accuracy, cbs=ShowGraph())\n",
    "timer.start()\n",
    "learn.fit_one_cycle(10, 3e-4)\n",
    "timer.stop()"
   ]
  },
  {
   "cell_type": "code",
   "execution_count": 229,
   "id": "3e5ac0df-e242-425e-a1ad-729580065298",
   "metadata": {},
   "outputs": [],
   "source": [
    "PATH = Path('./models/MRL.pkl')\n",
    "PATH.parent.mkdir(parents=True, exist_ok=True)\n",
    "learn.export(PATH)"
   ]
  },
  {
   "cell_type": "markdown",
   "id": "2860daef-bc8e-4fb3-a3d0-398e91522dd6",
   "metadata": {},
   "source": [
    "### Inference"
   ]
  },
  {
   "cell_type": "code",
   "execution_count": 230,
   "id": "d9b020b6-9a8c-420d-8b4d-0248cc3d67ec",
   "metadata": {},
   "outputs": [
    {
     "data": {
      "text/plain": [
       "<All keys matched successfully>"
      ]
     },
     "execution_count": 230,
     "metadata": {},
     "output_type": "execute_result"
    }
   ],
   "source": [
    "mrf = MiniRocketFeatures(X.shape[1], X.shape[2]).to(device)\n",
    "PATH = Path(\"./models/MRF.pt\")\n",
    "mrf.load_state_dict(torch.load(PATH))"
   ]
  },
  {
   "cell_type": "code",
   "execution_count": 236,
   "id": "e86e297f-5548-437f-a383-945e3c434fb9",
   "metadata": {},
   "outputs": [
    {
     "data": {
      "text/plain": [
       "((3374, 9996, 1), numpy.ndarray)"
      ]
     },
     "execution_count": 236,
     "metadata": {},
     "output_type": "execute_result"
    }
   ],
   "source": [
    "new_feat = get_minirocket_features(torch.from_numpy(X[splits[1]]).float().to(device), mrf, chunksize=20, to_np=True)\n",
    "new_feat.shape, type(new_feat)"
   ]
  },
  {
   "cell_type": "code",
   "execution_count": 237,
   "id": "d8c8befd-10c0-4649-a07f-51d23fc51ae8",
   "metadata": {},
   "outputs": [],
   "source": [
    "PATH = Path('./models/MRL.pkl')\n",
    "learn = load_learner(PATH, cpu=False)"
   ]
  },
  {
   "cell_type": "code",
   "execution_count": 248,
   "id": "91955b6c-50be-4184-a099-d76b6ff12e32",
   "metadata": {},
   "outputs": [
    {
     "data": {
      "text/html": [
       "\n",
       "<style>\n",
       "    /* Turns off some styling */\n",
       "    progress {\n",
       "        /* gets rid of default border in Firefox and Opera. */\n",
       "        border: none;\n",
       "        /* Needs to be in here for Safari polyfill so background images work as expected. */\n",
       "        background-size: auto;\n",
       "    }\n",
       "    progress:not([value]), progress:not([value])::-webkit-progress-bar {\n",
       "        background: repeating-linear-gradient(45deg, #7e7e7e, #7e7e7e 10px, #5c5c5c 10px, #5c5c5c 20px);\n",
       "    }\n",
       "    .progress-bar-interrupted, .progress-bar-interrupted::-webkit-progress-bar {\n",
       "        background: #F44336;\n",
       "    }\n",
       "</style>\n"
      ],
      "text/plain": [
       "<IPython.core.display.HTML object>"
      ]
     },
     "metadata": {},
     "output_type": "display_data"
    },
    {
     "data": {
      "text/html": [],
      "text/plain": [
       "<IPython.core.display.HTML object>"
      ]
     },
     "metadata": {},
     "output_type": "display_data"
    },
    {
     "data": {
      "text/plain": [
       "array(['0', '0', '2', ..., '1', '1', '1'], dtype='<U1')"
      ]
     },
     "execution_count": 248,
     "metadata": {},
     "output_type": "execute_result"
    }
   ],
   "source": [
    "probas, _, preds = learn.get_X_preds(new_feat)\n",
    "preds"
   ]
  },
  {
   "cell_type": "code",
   "execution_count": 249,
   "id": "733d6c4a-0b33-48a0-ace7-2690d2242849",
   "metadata": {},
   "outputs": [
    {
     "data": {
      "text/plain": [
       "0.0"
      ]
     },
     "execution_count": 249,
     "metadata": {},
     "output_type": "execute_result"
    }
   ],
   "source": [
    "sklearn.metrics.accuracy_score(y[splits[1]], preds)"
   ]
  }
 ],
 "metadata": {
  "kernelspec": {
   "display_name": "Python 3 (ipykernel)",
   "language": "python",
   "name": "python3"
  },
  "language_info": {
   "codemirror_mode": {
    "name": "ipython",
    "version": 3
   },
   "file_extension": ".py",
   "mimetype": "text/x-python",
   "name": "python",
   "nbconvert_exporter": "python",
   "pygments_lexer": "ipython3",
   "version": "3.10.2"
  }
 },
 "nbformat": 4,
 "nbformat_minor": 5
}
