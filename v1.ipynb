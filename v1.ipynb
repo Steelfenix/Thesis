{
 "cells": [
  {
   "cell_type": "code",
   "execution_count": 1,
   "id": "e21d09e0-b197-4ab2-8070-b60679bc1dcb",
   "metadata": {},
   "outputs": [],
   "source": [
    "from pybaseball import statcast, statcast_pitcher, pitching_stats, cache\n",
    "import pandas as pd\n",
    "import numpy as np\n",
    "import matplotlib.pyplot as plt\n",
    "import seaborn as sns\n",
    "import pybaseball\n",
    "\n",
    "import json\n",
    "import os\n",
    "\n",
    "\n",
    "pybaseball.cache.enable()\n",
    "pd.set_option(\"display.max_columns\", None)"
   ]
  },
  {
   "cell_type": "markdown",
   "id": "f5f20279-83f2-4d5a-8a6d-a632bad31735",
   "metadata": {},
   "source": [
    "## Data Creation and Preparation"
   ]
  },
  {
   "cell_type": "code",
   "execution_count": 2,
   "id": "5a2568e0-39dd-49e4-94a6-e5acbe765408",
   "metadata": {},
   "outputs": [],
   "source": [
    "columns = [\n",
    "    'pitcher',\n",
    "    'pitch_type',\n",
    "    #'p_throws',\n",
    "    # 'type',\n",
    "    #'balls',\n",
    "    #'strikes',\n",
    "    #'on_3b',\n",
    "    #'on_2b',\n",
    "    #'on_1b',\n",
    "    #'outs_when_up',\n",
    "    #'inning',\n",
    "    # 'inning_topbot',\n",
    "    #'home_score',\n",
    "    #'away_score',\n",
    "    #'post_home_score',\n",
    "    #'post_away_score',\n",
    "    'release_speed',\n",
    "    'release_pos_x',\n",
    "    'release_pos_y',\n",
    "    'release_pos_z',\n",
    "    'vx0',\n",
    "    'vy0',\n",
    "    'vz0',\n",
    "    'ax',\n",
    "    'ay',\n",
    "    'az',\n",
    "    #'home_team',\n",
    "    #'away_team'\n",
    "]"
   ]
  },
  {
   "cell_type": "code",
   "execution_count": 3,
   "id": "9faa8cc8-72eb-4222-9f23-39f0ec516d03",
   "metadata": {},
   "outputs": [
    {
     "name": "stdout",
     "output_type": "stream",
     "text": [
      "{'STL': 0, 'TB': 1, 'ARI': 2, 'NYM': 3, 'TEX': 4, 'MIL': 5, 'MIN': 6, 'OAK': 7, 'WSH': 8, 'CIN': 9, 'BOS': 10, 'LAD': 11, 'HOU': 12, 'BAL': 13, 'CWS': 14, 'PIT': 15, 'DET': 16, 'COL': 17, 'SD': 18, 'LAA': 19, 'PHI': 20, 'SF': 21, 'SEA': 22, 'CHC': 23, 'KC': 24, 'NYY': 25, 'MIA': 26, 'CLE': 27, 'TOR': 28, 'ATL': 29}\n",
      "{'FF': 0, 'SI': 1, 'SL': 2, 'CH': 3, 'FC': 4, 'CU': 5, 'FS': 6, 'KC': 7, 'FO': 8, 'PO': 9, 'EP': 10, 'KN': 11, 'SC': 12, 'FA': 13, 'CS': 14, 'FT': 15}\n",
      "{'R': 0, 'L': 1}\n",
      "{'B': 0, 'S': 1, 'X': 2}\n",
      "{'Top': 0, 'Bot': 1}\n"
     ]
    }
   ],
   "source": [
    "def download():\n",
    "    path = './full-sample.csv'\n",
    "    if not os.path.isfile(path): \n",
    "        data = statcast(start_dt='2020-01-01', end_dt='2022-12-31')\n",
    "        data.to_csv('full-sample.csv', index=False)\n",
    "    data = pd.read_csv(path, usecols=columns)\n",
    "    data = data[data['pitch_type'].notna()]\n",
    "    return data\n",
    "\n",
    "\n",
    "def is_nan_to_bool(value):\n",
    "    if pd.isna(value):\n",
    "        return False\n",
    "    return True\n",
    "\n",
    "def is_nan_to_zero(value):\n",
    "    if pd.isna(value):\n",
    "        return 0\n",
    "    return value\n",
    "\n",
    "def swap_dictionary_key_values(dictonary):\n",
    "    return {v: k for k, v in dictonary.items()}\n",
    "\n",
    "def list_to_dictionary(list_to_convert):\n",
    "    d = dict(enumerate(list_to_convert))\n",
    "    d = swap_dictionary_key_values(d)\n",
    "    return d\n",
    "    \n",
    "def get_or_create_dictionary(df, dictionary_key):\n",
    "    dictionary = {}\n",
    "    base_path = './dictionaries'\n",
    "    if not os.path.exists(base_path):\n",
    "        os.mkdir(base_path) \n",
    "        \n",
    "    if not os.path.isfile(f'{base_path}/{dictionary_key}.json'): \n",
    "        dictionary = list_to_dictionary(data[dictionary_key].unique())\n",
    "        with open(f'{base_path}/{dictionary_key}.json', 'w') as convert_file:\n",
    "            convert_file.write(json.dumps(dictionary))\n",
    "    else:\n",
    "        with open(f'{base_path}/{dictionary_key}.json') as json_file:\n",
    "            dictionary = json.load(json_file)\n",
    "    print(dictionary)        \n",
    "    return dictionary\n",
    "\n",
    "def load_dictionaries():\n",
    "    teams_dict = get_or_create_dictionary(data,'home_team')\n",
    "    pitch_types_dict = get_or_create_dictionary(data, 'pitch_type')\n",
    "    p_throws_dict = get_or_create_dictionary(data,'p_throws')\n",
    "    result_types_dict = get_or_create_dictionary(data,'type')\n",
    "    inning_topbot_dict = get_or_create_dictionary(data,'inning_topbot')\n",
    "    return teams_dict, pitch_types_dict, p_throws_dict, result_types_dict, inning_topbot_dict\n",
    "\n",
    "\n",
    "data = download()\n",
    "\n",
    "#data['on_3b'] = data['on_3b'].apply(is_nan_to_bool)\n",
    "#data['on_2b'] = data['on_2b'].apply(is_nan_to_bool)\n",
    "#data['on_1b'] = data['on_1b'].apply(is_nan_to_bool)\n",
    "data = data.iloc[::-1]\n",
    "\n",
    "teams_dict, pitch_types_dict, p_throws_dict, result_types_dict, inning_topbot_dict = load_dictionaries()"
   ]
  },
  {
   "cell_type": "code",
   "execution_count": 4,
   "id": "68bc813c-c80f-45e3-a052-aad4d195aa80",
   "metadata": {},
   "outputs": [],
   "source": [
    "def missing_columns(df, threshold = 70, n = None):\n",
    "    dff = df.isnull().sum()/df.shape[0] * 100\n",
    "    dff = dff.reset_index()\n",
    "    dff.columns = ['col', 'missing_percent']\n",
    "    dff = dff.sort_values(by=['missing_percent'],ascending=False).reset_index(drop=True)\n",
    "    print(f'There are {df.isnull().any().sum()} columns in this dataset with missing values.')\n",
    "    print(f'There are {dff[dff[\"missing_percent\"] > threshold].shape[0]} columns with missing percent values greater than {threshold}%')\n",
    "    if n:\n",
    "        return dff.head(n)\n",
    "    else:\n",
    "        return dff\n",
    "\n",
    "def unique_value_column(df):\n",
    "    for col in df.columns:\n",
    "        shape = df[col].value_counts().shape[0]\n",
    "        missing = round(df[col].isnull().sum()/df.shape[0] * 100, 2)\n",
    "        print(f'No of unique values in {col} is {shape} | missing percent is {missing}%')"
   ]
  },
  {
   "cell_type": "code",
   "execution_count": 5,
   "id": "eea0d80a-c6d3-4d46-8210-e2b19504b878",
   "metadata": {},
   "outputs": [
    {
     "name": "stdout",
     "output_type": "stream",
     "text": [
      "There are 10 columns in this dataset with missing values.\n",
      "There are 0 columns with missing percent values greater than 70%\n"
     ]
    },
    {
     "data": {
      "text/html": [
       "<div>\n",
       "<style scoped>\n",
       "    .dataframe tbody tr th:only-of-type {\n",
       "        vertical-align: middle;\n",
       "    }\n",
       "\n",
       "    .dataframe tbody tr th {\n",
       "        vertical-align: top;\n",
       "    }\n",
       "\n",
       "    .dataframe thead th {\n",
       "        text-align: right;\n",
       "    }\n",
       "</style>\n",
       "<table border=\"1\" class=\"dataframe\">\n",
       "  <thead>\n",
       "    <tr style=\"text-align: right;\">\n",
       "      <th></th>\n",
       "      <th>col</th>\n",
       "      <th>missing_percent</th>\n",
       "    </tr>\n",
       "  </thead>\n",
       "  <tbody>\n",
       "    <tr>\n",
       "      <th>0</th>\n",
       "      <td>release_pos_x</td>\n",
       "      <td>0.006291</td>\n",
       "    </tr>\n",
       "    <tr>\n",
       "      <th>1</th>\n",
       "      <td>release_pos_z</td>\n",
       "      <td>0.006291</td>\n",
       "    </tr>\n",
       "    <tr>\n",
       "      <th>2</th>\n",
       "      <td>release_pos_y</td>\n",
       "      <td>0.006291</td>\n",
       "    </tr>\n",
       "    <tr>\n",
       "      <th>3</th>\n",
       "      <td>release_speed</td>\n",
       "      <td>0.001661</td>\n",
       "    </tr>\n",
       "    <tr>\n",
       "      <th>4</th>\n",
       "      <td>vx0</td>\n",
       "      <td>0.001007</td>\n",
       "    </tr>\n",
       "    <tr>\n",
       "      <th>5</th>\n",
       "      <td>vy0</td>\n",
       "      <td>0.001007</td>\n",
       "    </tr>\n",
       "    <tr>\n",
       "      <th>6</th>\n",
       "      <td>vz0</td>\n",
       "      <td>0.001007</td>\n",
       "    </tr>\n",
       "    <tr>\n",
       "      <th>7</th>\n",
       "      <td>ax</td>\n",
       "      <td>0.001007</td>\n",
       "    </tr>\n",
       "    <tr>\n",
       "      <th>8</th>\n",
       "      <td>ay</td>\n",
       "      <td>0.001007</td>\n",
       "    </tr>\n",
       "    <tr>\n",
       "      <th>9</th>\n",
       "      <td>az</td>\n",
       "      <td>0.001007</td>\n",
       "    </tr>\n",
       "    <tr>\n",
       "      <th>10</th>\n",
       "      <td>pitch_type</td>\n",
       "      <td>0.000000</td>\n",
       "    </tr>\n",
       "    <tr>\n",
       "      <th>11</th>\n",
       "      <td>pitcher</td>\n",
       "      <td>0.000000</td>\n",
       "    </tr>\n",
       "  </tbody>\n",
       "</table>\n",
       "</div>"
      ],
      "text/plain": [
       "              col  missing_percent\n",
       "0   release_pos_x         0.006291\n",
       "1   release_pos_z         0.006291\n",
       "2   release_pos_y         0.006291\n",
       "3   release_speed         0.001661\n",
       "4             vx0         0.001007\n",
       "5             vy0         0.001007\n",
       "6             vz0         0.001007\n",
       "7              ax         0.001007\n",
       "8              ay         0.001007\n",
       "9              az         0.001007\n",
       "10     pitch_type         0.000000\n",
       "11        pitcher         0.000000"
      ]
     },
     "execution_count": 5,
     "metadata": {},
     "output_type": "execute_result"
    }
   ],
   "source": [
    "missing_columns(data)"
   ]
  },
  {
   "cell_type": "code",
   "execution_count": 6,
   "id": "28bc0079-7986-44cd-876d-2b4ee221a52e",
   "metadata": {},
   "outputs": [
    {
     "name": "stdout",
     "output_type": "stream",
     "text": [
      "No of unique values in pitch_type is 16 | missing percent is 0.0%\n",
      "No of unique values in release_speed is 687 | missing percent is 0.0%\n",
      "No of unique values in release_pos_x is 1074 | missing percent is 0.01%\n",
      "No of unique values in release_pos_z is 703 | missing percent is 0.01%\n",
      "No of unique values in pitcher is 1971 | missing percent is 0.0%\n",
      "No of unique values in vx0 is 3973926 | missing percent is 0.0%\n",
      "No of unique values in vy0 is 3973927 | missing percent is 0.0%\n",
      "No of unique values in vz0 is 3973926 | missing percent is 0.0%\n",
      "No of unique values in ax is 3973927 | missing percent is 0.0%\n",
      "No of unique values in ay is 3973927 | missing percent is 0.0%\n",
      "No of unique values in az is 3973926 | missing percent is 0.0%\n",
      "No of unique values in release_pos_y is 592 | missing percent is 0.01%\n"
     ]
    }
   ],
   "source": [
    "unique_value_column(data)"
   ]
  },
  {
   "cell_type": "code",
   "execution_count": 7,
   "id": "6ff39117-d389-4b7c-ad8e-e13d066ff1ff",
   "metadata": {},
   "outputs": [],
   "source": [
    "data.head(60)\n",
    "data.to_csv('essential-columns.csv', index=False)"
   ]
  },
  {
   "cell_type": "code",
   "execution_count": 8,
   "id": "5542051c-cbd7-451c-834b-9df4f05835f0",
   "metadata": {},
   "outputs": [],
   "source": [
    "data = pd.read_csv('essential-columns.csv')\n",
    "#data['home_team'] = data['home_team'].apply(lambda x: teams_dict[x])\n",
    "#data['away_team'] = data['away_team'].apply(lambda x: teams_dict[x])\n",
    "data['pitch_type'] = data['pitch_type'].apply(lambda x: pitch_types_dict[x])\n",
    "#data['p_throws'] = data['p_throws'].apply(lambda x: p_throws_dict[x])\n",
    "#data['type'] = data['type'].apply(lambda x: result_types_dict[x])\n",
    "#data['inning_topbot'] = data['inning_topbot'].apply(lambda x: inning_topbot_dict[x])"
   ]
  },
  {
   "cell_type": "code",
   "execution_count": 9,
   "id": "d9c5bb15-de1b-4604-9ebc-7d939cd5d40e",
   "metadata": {},
   "outputs": [
    {
     "data": {
      "text/html": [
       "<div>\n",
       "<style scoped>\n",
       "    .dataframe tbody tr th:only-of-type {\n",
       "        vertical-align: middle;\n",
       "    }\n",
       "\n",
       "    .dataframe tbody tr th {\n",
       "        vertical-align: top;\n",
       "    }\n",
       "\n",
       "    .dataframe thead th {\n",
       "        text-align: right;\n",
       "    }\n",
       "</style>\n",
       "<table border=\"1\" class=\"dataframe\">\n",
       "  <thead>\n",
       "    <tr style=\"text-align: right;\">\n",
       "      <th></th>\n",
       "      <th>pitch_type</th>\n",
       "      <th>release_speed</th>\n",
       "      <th>release_pos_x</th>\n",
       "      <th>release_pos_z</th>\n",
       "      <th>pitcher</th>\n",
       "      <th>vx0</th>\n",
       "      <th>vy0</th>\n",
       "      <th>vz0</th>\n",
       "      <th>ax</th>\n",
       "      <th>ay</th>\n",
       "      <th>az</th>\n",
       "      <th>release_pos_y</th>\n",
       "    </tr>\n",
       "  </thead>\n",
       "  <tbody>\n",
       "    <tr>\n",
       "      <th>0</th>\n",
       "      <td>0</td>\n",
       "      <td>94.9</td>\n",
       "      <td>-1.33</td>\n",
       "      <td>5.59</td>\n",
       "      <td>593372</td>\n",
       "      <td>5.773372</td>\n",
       "      <td>-137.729770</td>\n",
       "      <td>0.007950</td>\n",
       "      <td>-10.848010</td>\n",
       "      <td>29.457908</td>\n",
       "      <td>-18.784685</td>\n",
       "      <td>55.07</td>\n",
       "    </tr>\n",
       "    <tr>\n",
       "      <th>1</th>\n",
       "      <td>1</td>\n",
       "      <td>95.9</td>\n",
       "      <td>-1.31</td>\n",
       "      <td>5.48</td>\n",
       "      <td>593372</td>\n",
       "      <td>5.288673</td>\n",
       "      <td>-139.217803</td>\n",
       "      <td>-4.486852</td>\n",
       "      <td>-21.233172</td>\n",
       "      <td>30.974374</td>\n",
       "      <td>-20.788933</td>\n",
       "      <td>55.07</td>\n",
       "    </tr>\n",
       "    <tr>\n",
       "      <th>2</th>\n",
       "      <td>1</td>\n",
       "      <td>97.3</td>\n",
       "      <td>-1.32</td>\n",
       "      <td>5.18</td>\n",
       "      <td>593372</td>\n",
       "      <td>6.353246</td>\n",
       "      <td>-141.192269</td>\n",
       "      <td>-5.944415</td>\n",
       "      <td>-18.881798</td>\n",
       "      <td>30.681296</td>\n",
       "      <td>-23.942620</td>\n",
       "      <td>54.80</td>\n",
       "    </tr>\n",
       "    <tr>\n",
       "      <th>3</th>\n",
       "      <td>2</td>\n",
       "      <td>84.6</td>\n",
       "      <td>-1.25</td>\n",
       "      <td>5.39</td>\n",
       "      <td>593372</td>\n",
       "      <td>1.149067</td>\n",
       "      <td>-122.821485</td>\n",
       "      <td>-1.341576</td>\n",
       "      <td>10.331882</td>\n",
       "      <td>24.074272</td>\n",
       "      <td>-33.798336</td>\n",
       "      <td>55.68</td>\n",
       "    </tr>\n",
       "    <tr>\n",
       "      <th>4</th>\n",
       "      <td>1</td>\n",
       "      <td>98.4</td>\n",
       "      <td>-1.23</td>\n",
       "      <td>5.15</td>\n",
       "      <td>593372</td>\n",
       "      <td>7.179546</td>\n",
       "      <td>-142.581131</td>\n",
       "      <td>-4.918857</td>\n",
       "      <td>-18.573869</td>\n",
       "      <td>33.201434</td>\n",
       "      <td>-22.306689</td>\n",
       "      <td>54.92</td>\n",
       "    </tr>\n",
       "    <tr>\n",
       "      <th>5</th>\n",
       "      <td>1</td>\n",
       "      <td>96.3</td>\n",
       "      <td>-1.36</td>\n",
       "      <td>5.24</td>\n",
       "      <td>593372</td>\n",
       "      <td>7.776288</td>\n",
       "      <td>-139.561217</td>\n",
       "      <td>-2.631489</td>\n",
       "      <td>-17.117458</td>\n",
       "      <td>32.702018</td>\n",
       "      <td>-23.124852</td>\n",
       "      <td>54.86</td>\n",
       "    </tr>\n",
       "    <tr>\n",
       "      <th>6</th>\n",
       "      <td>2</td>\n",
       "      <td>86.6</td>\n",
       "      <td>-1.30</td>\n",
       "      <td>5.51</td>\n",
       "      <td>593372</td>\n",
       "      <td>5.831739</td>\n",
       "      <td>-125.415532</td>\n",
       "      <td>-4.837204</td>\n",
       "      <td>12.917047</td>\n",
       "      <td>27.577018</td>\n",
       "      <td>-24.854894</td>\n",
       "      <td>55.39</td>\n",
       "    </tr>\n",
       "    <tr>\n",
       "      <th>7</th>\n",
       "      <td>2</td>\n",
       "      <td>86.1</td>\n",
       "      <td>-1.25</td>\n",
       "      <td>5.23</td>\n",
       "      <td>593372</td>\n",
       "      <td>1.492227</td>\n",
       "      <td>-124.952085</td>\n",
       "      <td>-2.013251</td>\n",
       "      <td>10.461457</td>\n",
       "      <td>24.948835</td>\n",
       "      <td>-32.384709</td>\n",
       "      <td>55.58</td>\n",
       "    </tr>\n",
       "    <tr>\n",
       "      <th>8</th>\n",
       "      <td>0</td>\n",
       "      <td>99.9</td>\n",
       "      <td>-1.09</td>\n",
       "      <td>5.34</td>\n",
       "      <td>593372</td>\n",
       "      <td>3.394065</td>\n",
       "      <td>-144.892140</td>\n",
       "      <td>-2.830015</td>\n",
       "      <td>-12.444291</td>\n",
       "      <td>35.141691</td>\n",
       "      <td>-15.539013</td>\n",
       "      <td>54.88</td>\n",
       "    </tr>\n",
       "    <tr>\n",
       "      <th>9</th>\n",
       "      <td>0</td>\n",
       "      <td>99.3</td>\n",
       "      <td>-0.80</td>\n",
       "      <td>5.45</td>\n",
       "      <td>593372</td>\n",
       "      <td>3.599811</td>\n",
       "      <td>-144.046272</td>\n",
       "      <td>-1.319020</td>\n",
       "      <td>-13.325387</td>\n",
       "      <td>35.529831</td>\n",
       "      <td>-15.686738</td>\n",
       "      <td>54.71</td>\n",
       "    </tr>\n",
       "    <tr>\n",
       "      <th>10</th>\n",
       "      <td>3</td>\n",
       "      <td>89.9</td>\n",
       "      <td>-1.03</td>\n",
       "      <td>5.23</td>\n",
       "      <td>593372</td>\n",
       "      <td>4.646422</td>\n",
       "      <td>-130.407662</td>\n",
       "      <td>-2.558437</td>\n",
       "      <td>-19.686198</td>\n",
       "      <td>29.515642</td>\n",
       "      <td>-27.217837</td>\n",
       "      <td>54.94</td>\n",
       "    </tr>\n",
       "    <tr>\n",
       "      <th>11</th>\n",
       "      <td>0</td>\n",
       "      <td>96.9</td>\n",
       "      <td>-0.85</td>\n",
       "      <td>5.25</td>\n",
       "      <td>593372</td>\n",
       "      <td>5.403615</td>\n",
       "      <td>-140.609607</td>\n",
       "      <td>-2.148642</td>\n",
       "      <td>-9.986772</td>\n",
       "      <td>32.406292</td>\n",
       "      <td>-21.944592</td>\n",
       "      <td>54.85</td>\n",
       "    </tr>\n",
       "    <tr>\n",
       "      <th>12</th>\n",
       "      <td>3</td>\n",
       "      <td>88.8</td>\n",
       "      <td>-1.03</td>\n",
       "      <td>5.27</td>\n",
       "      <td>593372</td>\n",
       "      <td>8.503257</td>\n",
       "      <td>-128.544603</td>\n",
       "      <td>-5.148890</td>\n",
       "      <td>-17.518578</td>\n",
       "      <td>28.945742</td>\n",
       "      <td>-30.907128</td>\n",
       "      <td>54.74</td>\n",
       "    </tr>\n",
       "    <tr>\n",
       "      <th>13</th>\n",
       "      <td>3</td>\n",
       "      <td>88.7</td>\n",
       "      <td>-0.96</td>\n",
       "      <td>5.34</td>\n",
       "      <td>593372</td>\n",
       "      <td>6.219051</td>\n",
       "      <td>-128.526216</td>\n",
       "      <td>-3.391539</td>\n",
       "      <td>-17.680264</td>\n",
       "      <td>28.244446</td>\n",
       "      <td>-32.470227</td>\n",
       "      <td>55.04</td>\n",
       "    </tr>\n",
       "    <tr>\n",
       "      <th>14</th>\n",
       "      <td>3</td>\n",
       "      <td>89.3</td>\n",
       "      <td>-1.19</td>\n",
       "      <td>5.41</td>\n",
       "      <td>593372</td>\n",
       "      <td>6.598738</td>\n",
       "      <td>-129.392895</td>\n",
       "      <td>-3.738028</td>\n",
       "      <td>-17.128844</td>\n",
       "      <td>29.024339</td>\n",
       "      <td>-23.863998</td>\n",
       "      <td>55.01</td>\n",
       "    </tr>\n",
       "    <tr>\n",
       "      <th>15</th>\n",
       "      <td>0</td>\n",
       "      <td>98.2</td>\n",
       "      <td>-0.87</td>\n",
       "      <td>5.37</td>\n",
       "      <td>593372</td>\n",
       "      <td>4.683599</td>\n",
       "      <td>-142.279218</td>\n",
       "      <td>-0.142404</td>\n",
       "      <td>-9.714535</td>\n",
       "      <td>36.627153</td>\n",
       "      <td>-17.235474</td>\n",
       "      <td>55.15</td>\n",
       "    </tr>\n",
       "    <tr>\n",
       "      <th>16</th>\n",
       "      <td>0</td>\n",
       "      <td>91.3</td>\n",
       "      <td>2.99</td>\n",
       "      <td>5.60</td>\n",
       "      <td>452657</td>\n",
       "      <td>-10.522855</td>\n",
       "      <td>-132.024848</td>\n",
       "      <td>-7.804538</td>\n",
       "      <td>11.944745</td>\n",
       "      <td>28.877360</td>\n",
       "      <td>-16.485846</td>\n",
       "      <td>54.21</td>\n",
       "    </tr>\n",
       "    <tr>\n",
       "      <th>17</th>\n",
       "      <td>1</td>\n",
       "      <td>89.7</td>\n",
       "      <td>3.21</td>\n",
       "      <td>5.85</td>\n",
       "      <td>452657</td>\n",
       "      <td>-7.407883</td>\n",
       "      <td>-129.957303</td>\n",
       "      <td>-3.935529</td>\n",
       "      <td>16.058062</td>\n",
       "      <td>29.262426</td>\n",
       "      <td>-23.033614</td>\n",
       "      <td>54.53</td>\n",
       "    </tr>\n",
       "    <tr>\n",
       "      <th>18</th>\n",
       "      <td>1</td>\n",
       "      <td>88.2</td>\n",
       "      <td>3.07</td>\n",
       "      <td>5.59</td>\n",
       "      <td>452657</td>\n",
       "      <td>-9.459298</td>\n",
       "      <td>-127.819160</td>\n",
       "      <td>-5.378789</td>\n",
       "      <td>12.483625</td>\n",
       "      <td>25.405323</td>\n",
       "      <td>-24.422825</td>\n",
       "      <td>54.42</td>\n",
       "    </tr>\n",
       "    <tr>\n",
       "      <th>19</th>\n",
       "      <td>0</td>\n",
       "      <td>91.1</td>\n",
       "      <td>2.97</td>\n",
       "      <td>5.52</td>\n",
       "      <td>452657</td>\n",
       "      <td>-12.104902</td>\n",
       "      <td>-131.806488</td>\n",
       "      <td>-5.637007</td>\n",
       "      <td>9.269743</td>\n",
       "      <td>29.048068</td>\n",
       "      <td>-15.062775</td>\n",
       "      <td>54.02</td>\n",
       "    </tr>\n",
       "    <tr>\n",
       "      <th>20</th>\n",
       "      <td>0</td>\n",
       "      <td>91.3</td>\n",
       "      <td>3.05</td>\n",
       "      <td>5.63</td>\n",
       "      <td>452657</td>\n",
       "      <td>-8.607661</td>\n",
       "      <td>-132.338867</td>\n",
       "      <td>-5.108927</td>\n",
       "      <td>12.908714</td>\n",
       "      <td>29.391418</td>\n",
       "      <td>-15.155706</td>\n",
       "      <td>54.23</td>\n",
       "    </tr>\n",
       "    <tr>\n",
       "      <th>21</th>\n",
       "      <td>0</td>\n",
       "      <td>91.0</td>\n",
       "      <td>3.07</td>\n",
       "      <td>5.60</td>\n",
       "      <td>452657</td>\n",
       "      <td>-10.533440</td>\n",
       "      <td>-131.586433</td>\n",
       "      <td>-7.747271</td>\n",
       "      <td>8.954104</td>\n",
       "      <td>29.151431</td>\n",
       "      <td>-14.588946</td>\n",
       "      <td>54.40</td>\n",
       "    </tr>\n",
       "    <tr>\n",
       "      <th>22</th>\n",
       "      <td>4</td>\n",
       "      <td>88.2</td>\n",
       "      <td>3.14</td>\n",
       "      <td>5.77</td>\n",
       "      <td>452657</td>\n",
       "      <td>-8.300764</td>\n",
       "      <td>-127.790885</td>\n",
       "      <td>-4.138864</td>\n",
       "      <td>-0.919060</td>\n",
       "      <td>27.653592</td>\n",
       "      <td>-18.735676</td>\n",
       "      <td>54.49</td>\n",
       "    </tr>\n",
       "    <tr>\n",
       "      <th>23</th>\n",
       "      <td>4</td>\n",
       "      <td>89.1</td>\n",
       "      <td>2.97</td>\n",
       "      <td>5.58</td>\n",
       "      <td>452657</td>\n",
       "      <td>-9.861786</td>\n",
       "      <td>-129.100092</td>\n",
       "      <td>-4.870923</td>\n",
       "      <td>1.367791</td>\n",
       "      <td>26.173060</td>\n",
       "      <td>-25.371773</td>\n",
       "      <td>54.45</td>\n",
       "    </tr>\n",
       "    <tr>\n",
       "      <th>24</th>\n",
       "      <td>1</td>\n",
       "      <td>88.3</td>\n",
       "      <td>3.10</td>\n",
       "      <td>5.59</td>\n",
       "      <td>452657</td>\n",
       "      <td>-9.482278</td>\n",
       "      <td>-128.129776</td>\n",
       "      <td>-5.235310</td>\n",
       "      <td>14.306964</td>\n",
       "      <td>23.753840</td>\n",
       "      <td>-27.117299</td>\n",
       "      <td>54.37</td>\n",
       "    </tr>\n",
       "  </tbody>\n",
       "</table>\n",
       "</div>"
      ],
      "text/plain": [
       "    pitch_type  release_speed  release_pos_x  release_pos_z  pitcher  \\\n",
       "0            0           94.9          -1.33           5.59   593372   \n",
       "1            1           95.9          -1.31           5.48   593372   \n",
       "2            1           97.3          -1.32           5.18   593372   \n",
       "3            2           84.6          -1.25           5.39   593372   \n",
       "4            1           98.4          -1.23           5.15   593372   \n",
       "5            1           96.3          -1.36           5.24   593372   \n",
       "6            2           86.6          -1.30           5.51   593372   \n",
       "7            2           86.1          -1.25           5.23   593372   \n",
       "8            0           99.9          -1.09           5.34   593372   \n",
       "9            0           99.3          -0.80           5.45   593372   \n",
       "10           3           89.9          -1.03           5.23   593372   \n",
       "11           0           96.9          -0.85           5.25   593372   \n",
       "12           3           88.8          -1.03           5.27   593372   \n",
       "13           3           88.7          -0.96           5.34   593372   \n",
       "14           3           89.3          -1.19           5.41   593372   \n",
       "15           0           98.2          -0.87           5.37   593372   \n",
       "16           0           91.3           2.99           5.60   452657   \n",
       "17           1           89.7           3.21           5.85   452657   \n",
       "18           1           88.2           3.07           5.59   452657   \n",
       "19           0           91.1           2.97           5.52   452657   \n",
       "20           0           91.3           3.05           5.63   452657   \n",
       "21           0           91.0           3.07           5.60   452657   \n",
       "22           4           88.2           3.14           5.77   452657   \n",
       "23           4           89.1           2.97           5.58   452657   \n",
       "24           1           88.3           3.10           5.59   452657   \n",
       "\n",
       "          vx0         vy0       vz0         ax         ay         az  \\\n",
       "0    5.773372 -137.729770  0.007950 -10.848010  29.457908 -18.784685   \n",
       "1    5.288673 -139.217803 -4.486852 -21.233172  30.974374 -20.788933   \n",
       "2    6.353246 -141.192269 -5.944415 -18.881798  30.681296 -23.942620   \n",
       "3    1.149067 -122.821485 -1.341576  10.331882  24.074272 -33.798336   \n",
       "4    7.179546 -142.581131 -4.918857 -18.573869  33.201434 -22.306689   \n",
       "5    7.776288 -139.561217 -2.631489 -17.117458  32.702018 -23.124852   \n",
       "6    5.831739 -125.415532 -4.837204  12.917047  27.577018 -24.854894   \n",
       "7    1.492227 -124.952085 -2.013251  10.461457  24.948835 -32.384709   \n",
       "8    3.394065 -144.892140 -2.830015 -12.444291  35.141691 -15.539013   \n",
       "9    3.599811 -144.046272 -1.319020 -13.325387  35.529831 -15.686738   \n",
       "10   4.646422 -130.407662 -2.558437 -19.686198  29.515642 -27.217837   \n",
       "11   5.403615 -140.609607 -2.148642  -9.986772  32.406292 -21.944592   \n",
       "12   8.503257 -128.544603 -5.148890 -17.518578  28.945742 -30.907128   \n",
       "13   6.219051 -128.526216 -3.391539 -17.680264  28.244446 -32.470227   \n",
       "14   6.598738 -129.392895 -3.738028 -17.128844  29.024339 -23.863998   \n",
       "15   4.683599 -142.279218 -0.142404  -9.714535  36.627153 -17.235474   \n",
       "16 -10.522855 -132.024848 -7.804538  11.944745  28.877360 -16.485846   \n",
       "17  -7.407883 -129.957303 -3.935529  16.058062  29.262426 -23.033614   \n",
       "18  -9.459298 -127.819160 -5.378789  12.483625  25.405323 -24.422825   \n",
       "19 -12.104902 -131.806488 -5.637007   9.269743  29.048068 -15.062775   \n",
       "20  -8.607661 -132.338867 -5.108927  12.908714  29.391418 -15.155706   \n",
       "21 -10.533440 -131.586433 -7.747271   8.954104  29.151431 -14.588946   \n",
       "22  -8.300764 -127.790885 -4.138864  -0.919060  27.653592 -18.735676   \n",
       "23  -9.861786 -129.100092 -4.870923   1.367791  26.173060 -25.371773   \n",
       "24  -9.482278 -128.129776 -5.235310  14.306964  23.753840 -27.117299   \n",
       "\n",
       "    release_pos_y  \n",
       "0           55.07  \n",
       "1           55.07  \n",
       "2           54.80  \n",
       "3           55.68  \n",
       "4           54.92  \n",
       "5           54.86  \n",
       "6           55.39  \n",
       "7           55.58  \n",
       "8           54.88  \n",
       "9           54.71  \n",
       "10          54.94  \n",
       "11          54.85  \n",
       "12          54.74  \n",
       "13          55.04  \n",
       "14          55.01  \n",
       "15          55.15  \n",
       "16          54.21  \n",
       "17          54.53  \n",
       "18          54.42  \n",
       "19          54.02  \n",
       "20          54.23  \n",
       "21          54.40  \n",
       "22          54.49  \n",
       "23          54.45  \n",
       "24          54.37  "
      ]
     },
     "execution_count": 9,
     "metadata": {},
     "output_type": "execute_result"
    }
   ],
   "source": [
    "data.head(25)"
   ]
  },
  {
   "cell_type": "code",
   "execution_count": 12,
   "id": "71e5851d-3820-4ed2-bb3f-5cf34f9e23db",
   "metadata": {},
   "outputs": [],
   "source": [
    "get_files = True\n",
    "if not get_files:\n",
    "    pitchers = data['pitcher'].unique()\n",
    "    base_path = './pitchers'\n",
    "    if not os.path.exists(base_path):\n",
    "        os.mkdir(base_path)\n",
    "\n",
    "    for pitcher in pitchers:\n",
    "        path = f'{base_path}/{pitcher}.csv'\n",
    "        df = data[data['pitcher'] == pitcher]\n",
    "        df = df.drop(['pitcher'], axis='columns')\n",
    "\n",
    "        df['release_pos_x'] = df['release_pos_x'].apply(is_nan_to_zero)\n",
    "        df['release_pos_z'] = df['release_pos_z'].apply(is_nan_to_zero)\n",
    "        df['release_pos_y'] = df['release_pos_y'].apply(is_nan_to_zero)\n",
    "        df['release_speed'] = df['release_speed'].apply(is_nan_to_zero)\n",
    "        df['vx0'] = df['vx0'].apply(is_nan_to_zero)\n",
    "        df['az'] = df['az'].apply(is_nan_to_zero)\n",
    "        df['ay'] = df['ay'].apply(is_nan_to_zero)\n",
    "        df['ax'] = df['ax'].apply(is_nan_to_zero)\n",
    "        df['vz0'] = df['vz0'].apply(is_nan_to_zero)\n",
    "        df['vy0'] = df['vy0'].apply(is_nan_to_zero)\n",
    "\n",
    "        #df['on_3b'] = df['on_3b'].apply(is_nan_to_bool)\n",
    "        #df['on_2b'] = df['on_2b'].apply(is_nan_to_bool)\n",
    "        #df['on_1b'] = df['on_1b'].apply(is_nan_to_bool)\n",
    "        df.to_csv(path, index=False)\n",
    "    "
   ]
  },
  {
   "cell_type": "markdown",
   "id": "2f43c23c-f80d-4c9c-949c-d5d15c397506",
   "metadata": {},
   "source": [
    "## Model Testing"
   ]
  },
  {
   "cell_type": "code",
   "execution_count": 13,
   "id": "038a7e58-43e4-457b-9fb3-022db422e30f",
   "metadata": {},
   "outputs": [
    {
     "name": "stderr",
     "output_type": "stream",
     "text": [
      "C:\\Users\\Adrian\\.pyenv\\pyenv-win\\versions\\3.10.5\\lib\\site-packages\\tqdm\\auto.py:22: TqdmWarning: IProgress not found. Please update jupyter and ipywidgets. See https://ipywidgets.readthedocs.io/en/stable/user_install.html\n",
      "  from .autonotebook import tqdm as notebook_tqdm\n"
     ]
    },
    {
     "name": "stdout",
     "output_type": "stream",
     "text": [
      "os              : Windows-10-10.0.22621-SP0\n",
      "python          : 3.10.5\n",
      "tsai            : 0.3.4\n",
      "fastai          : 2.7.10\n",
      "fastcore        : 1.5.27\n",
      "torch           : 1.13.1+cu116\n",
      "device          : 1 gpu (['NVIDIA GeForce GTX 1660 Ti'])\n",
      "cpu cores       : 8\n",
      "threads per cpu : 2\n",
      "RAM             : 31.36 GB\n",
      "GPU memory      : [6.0] GB\n"
     ]
    },
    {
     "data": {
      "text/plain": [
       "device(type='cuda', index=0)"
      ]
     },
     "execution_count": 13,
     "metadata": {},
     "output_type": "execute_result"
    }
   ],
   "source": [
    "import tensorflow as tf\n",
    "import torch\n",
    "torch.cuda.empty_cache()\n",
    "import os\n",
    "import pandas as pd\n",
    "import sklearn\n",
    "import numpy as np\n",
    "from tsai.models.MINIROCKET_Pytorch import *\n",
    "from tsai.models.utils import *\n",
    "from tsai.all import *\n",
    "import umap\n",
    "\n",
    "computer_setup()\n",
    "\n",
    "device = torch.device(\"cuda:0\" if torch.cuda.is_available() else \"cpu\")\n",
    "device"
   ]
  },
  {
   "cell_type": "code",
   "execution_count": 14,
   "id": "ee7e10f5-8af2-4407-ad39-9cf094ba2372",
   "metadata": {},
   "outputs": [],
   "source": [
    "from sklearn import preprocessing\n",
    "def df_to_X_y2(df: pd.DataFrame, target_column, window_size = 5): \n",
    "    df_2 = df.drop(target_column, axis='columns')\n",
    "    scaler = preprocessing.StandardScaler().fit(df_2)\n",
    "    df_as_np = scaler.transform(df_2)\n",
    "    # df_as_np = df_2.to_numpy()\n",
    "    X = []\n",
    "    y = []\n",
    "    for i in range(len(df_as_np) - window_size):\n",
    "        row = [r for r in df_as_np[i:i + window_size]]\n",
    "        X.append(row)\n",
    "        label = df.iloc[i + window_size][target_column]\n",
    "        y.append(label)\n",
    "    return np.array(X), np.array(y)\n",
    "\n",
    "\n",
    "def df_to_X_y2V2(df: pd.DataFrame, target_column, window_size = 5): \n",
    "    df_2 = df.drop(target_column, axis='columns')\n",
    "    scaler = preprocessing.StandardScaler().fit(df_2)\n",
    "    df_as_np = scaler.transform(df_2)\n",
    "    #df_as_np = df_2.to_numpy()\n",
    "    X = []\n",
    "    y = []\n",
    "    n_features = len(df_as_np[0,:])\n",
    "    for i in range(len(df_as_np) - window_size):\n",
    "        observation = []\n",
    "        rows = df_as_np[i:i + window_size, :] \n",
    "        for f in range(0, n_features):\n",
    "            observation.append(rows[:, f])\n",
    "  \n",
    "        X.append(observation)        \n",
    "        label = df.iloc[i + window_size][target_column]\n",
    "        y.append(label)\n",
    "    return np.array(X), np.array(y)\n",
    "\n"
   ]
  },
  {
   "cell_type": "code",
   "execution_count": 15,
   "id": "fa33117f-e4fb-4130-8a8e-d4bcb4740504",
   "metadata": {},
   "outputs": [],
   "source": [
    "# test = pd.read_csv('./prueba.csv')\n",
    "# X, y = df_to_X_y2V2(test, 'y', 3)\n",
    "# y"
   ]
  },
  {
   "cell_type": "code",
   "execution_count": 16,
   "id": "10c161bb-25e0-4a7a-9312-9720611b6dda",
   "metadata": {},
   "outputs": [
    {
     "name": "stdout",
     "output_type": "stream",
     "text": [
      "{'STL': 0, 'TB': 1, 'ARI': 2, 'NYM': 3, 'TEX': 4, 'MIL': 5, 'MIN': 6, 'OAK': 7, 'WSH': 8, 'CIN': 9, 'BOS': 10, 'LAD': 11, 'HOU': 12, 'BAL': 13, 'CWS': 14, 'PIT': 15, 'DET': 16, 'COL': 17, 'SD': 18, 'LAA': 19, 'PHI': 20, 'SF': 21, 'SEA': 22, 'CHC': 23, 'KC': 24, 'NYY': 25, 'MIA': 26, 'CLE': 27, 'TOR': 28, 'ATL': 29}\n",
      "{'FF': 0, 'SI': 1, 'SL': 2, 'CH': 3, 'FC': 4, 'CU': 5, 'FS': 6, 'KC': 7, 'FO': 8, 'PO': 9, 'EP': 10, 'KN': 11, 'SC': 12, 'FA': 13, 'CS': 14, 'FT': 15}\n",
      "{'R': 0, 'L': 1}\n",
      "{'B': 0, 'S': 1, 'X': 2}\n",
      "{'Top': 0, 'Bot': 1}\n"
     ]
    }
   ],
   "source": [
    "data = pd.read_csv('essential-columns.csv')\n",
    "teams_dict, pitch_types_dict, p_throws_dict, result_types_dict, inning_topbot_dict = load_dictionaries()"
   ]
  },
  {
   "cell_type": "code",
   "execution_count": 17,
   "id": "2458440c-de7a-4ebf-bbb2-e33012bdf4cb",
   "metadata": {},
   "outputs": [],
   "source": [
    "test_df = pd.read_csv('./pitchers/645261.csv')\n",
    "#test_df.on_3b = test_df.on_3b.replace({True: 1, False: 0})\n",
    "#test_df.on_2b = test_df.on_2b.replace({True: 1, False: 0})\n",
    "#test_df.on_1b = test_df.on_1b.replace({True: 1, False: 0})\n",
    "#X, y = df_to_X_y2V2(test_df, 'pitch_type', 100)\n",
    "#test_df.head()"
   ]
  },
  {
   "cell_type": "code",
   "execution_count": 18,
   "id": "9f118eb7-94fa-413f-9a01-f8046d7f6a54",
   "metadata": {},
   "outputs": [
    {
     "data": {
      "text/plain": [
       "(11158, 2, 100)"
      ]
     },
     "execution_count": 18,
     "metadata": {},
     "output_type": "execute_result"
    }
   ],
   "source": [
    "reducer = umap.UMAP()\n",
    "dto = test_df.drop('pitch_type', axis='columns')\n",
    "embedding = reducer.fit_transform(dto)\n",
    "embedding.shape\n",
    "\n",
    "df = pd.DataFrame(data = embedding, \n",
    "                  columns = ['v1', 'v2'])\n",
    "df['pitch_type'] = test_df['pitch_type']\n",
    "X, y = df_to_X_y2V2(df, 'pitch_type', 100)\n",
    "X.shape"
   ]
  },
  {
   "cell_type": "code",
   "execution_count": 19,
   "id": "157690ca-f04a-4f22-8970-c38fff73999c",
   "metadata": {},
   "outputs": [
    {
     "data": {
      "text/plain": [
       "(int, int)"
      ]
     },
     "execution_count": 19,
     "metadata": {},
     "output_type": "execute_result"
    }
   ],
   "source": [
    "type(X.shape[1]), type(X.shape[2])"
   ]
  },
  {
   "cell_type": "code",
   "execution_count": 20,
   "id": "ec3d28bd-d7de-4e36-a31b-8cf3bf50738a",
   "metadata": {},
   "outputs": [
    {
     "data": {
      "text/plain": [
       "<seaborn.axisgrid.PairGrid at 0x2a06cad18a0>"
      ]
     },
     "execution_count": 20,
     "metadata": {},
     "output_type": "execute_result"
    },
    {
     "data": {
      "image/png": "[encoded data removed]",
      "text/plain": [
       "<Figure size 583.861x500 with 6 Axes>"
      ]
     },
     "metadata": {},
     "output_type": "display_data"
    }
   ],
   "source": [
    "sns.pairplot(df, hue='pitch_type')"
   ]
  },
  {
   "cell_type": "code",
   "execution_count": 21,
   "id": "410f7441-a3e3-4df2-9402-b4a30d7400ba",
   "metadata": {},
   "outputs": [
    {
     "data": {
      "image/png": "[encoded data removed]",
      "text/plain": [
       "<Figure size 1600x50 with 1 Axes>"
      ]
     },
     "metadata": {},
     "output_type": "display_data"
    },
    {
     "data": {
      "text/plain": [
       "((#7811) [7339,7200,1945,10617,6196,5209,9868,10189,11084,3405...],\n",
       " (#3347) [9079,2327,8820,5572,9733,4836,7110,3367,5403,8606...])"
      ]
     },
     "execution_count": 21,
     "metadata": {},
     "output_type": "execute_result"
    }
   ],
   "source": [
    "splits = get_splits(y, valid_size=.3, stratify=True, random_state=231, shuffle=True)\n",
    "splits"
   ]
  },
  {
   "cell_type": "code",
   "execution_count": 23,
   "id": "dea8b876-b28e-4a72-800f-9dd4ddb80854",
   "metadata": {},
   "outputs": [
    {
     "data": {
      "text/plain": [
       "((11158, 9996, 1), numpy.ndarray)"
      ]
     },
     "execution_count": 23,
     "metadata": {},
     "output_type": "execute_result"
    }
   ],
   "source": [
    "mrf = MiniRocketFeatures(X.shape[1], X.shape[2]).to(device)\n",
    "X_train = X[splits[0]]\n",
    "X_train = torch.from_numpy(X_train).float().to(device)\n",
    "mrf.fit(X_train)\n",
    "X_feat = get_minirocket_features(torch.from_numpy(X).float().to(device), mrf, to_np=True)\n",
    "X_feat.shape, type(X_feat)"
   ]
  },
  {
   "cell_type": "code",
   "execution_count": 24,
   "id": "3a81e00c-e5bf-4743-b2ba-9f9ada6720ad",
   "metadata": {},
   "outputs": [],
   "source": [
    "PATH = Path(\"./models/MRF.pt\")\n",
    "PATH.parent.mkdir(parents=True, exist_ok=True)\n",
    "torch.save(mrf.state_dict(), PATH)"
   ]
  },
  {
   "cell_type": "code",
   "execution_count": 25,
   "id": "872a2785-078e-425e-a458-b8761ef9788a",
   "metadata": {},
   "outputs": [
    {
     "data": {
      "text/plain": [
       "MiniRocketHead(\n",
       "  (backbone): Sequential()\n",
       "  (head): Sequential(\n",
       "    (0): Flatten(start_dim=1, end_dim=-1)\n",
       "    (1): BatchNorm1d(9996, eps=1e-05, momentum=0.1, affine=True, track_running_stats=True)\n",
       "    (2): Linear(in_features=9996, out_features=5, bias=True)\n",
       "  )\n",
       ")"
      ]
     },
     "execution_count": 25,
     "metadata": {},
     "output_type": "execute_result"
    }
   ],
   "source": [
    "# Using tsai/fastai, create DataLoaders for the features in X_feat.\n",
    "tfms = [None, TSClassification()]\n",
    "batch_tfms = TSStandardize(by_sample=True)\n",
    "dls = get_ts_dls(X_feat, y, splits=splits, tfms=tfms, batch_tfms=batch_tfms)\n",
    "                 \n",
    "# model is a linear classifier Head\n",
    "model = build_ts_model(MiniRocketHead, dls=dls)\n",
    "model"
   ]
  },
  {
   "cell_type": "code",
   "execution_count": 26,
   "id": "9c8ecb2f-e7e7-4c79-a63e-bef4514f0871",
   "metadata": {},
   "outputs": [
    {
     "data": {
      "text/html": [
       "\n",
       "<style>\n",
       "    /* Turns off some styling */\n",
       "    progress {\n",
       "        /* gets rid of default border in Firefox and Opera. */\n",
       "        border: none;\n",
       "        /* Needs to be in here for Safari polyfill so background images work as expected. */\n",
       "        background-size: auto;\n",
       "    }\n",
       "    progress:not([value]), progress:not([value])::-webkit-progress-bar {\n",
       "        background: repeating-linear-gradient(45deg, #7e7e7e, #7e7e7e 10px, #5c5c5c 10px, #5c5c5c 20px);\n",
       "    }\n",
       "    .progress-bar-interrupted, .progress-bar-interrupted::-webkit-progress-bar {\n",
       "        background: #F44336;\n",
       "    }\n",
       "</style>\n"
      ],
      "text/plain": [
       "<IPython.core.display.HTML object>"
      ]
     },
     "metadata": {},
     "output_type": "display_data"
    },
    {
     "data": {
      "text/html": [],
      "text/plain": [
       "<IPython.core.display.HTML object>"
      ]
     },
     "metadata": {},
     "output_type": "display_data"
    },
    {
     "data": {
      "text/plain": [
       "SuggestedLRs(valley=1.2022644114040304e-05)"
      ]
     },
     "execution_count": 26,
     "metadata": {},
     "output_type": "execute_result"
    },
    {
     "data": {
      "image/png": "[encoded data removed]",
      "text/plain": [
       "<Figure size 640x480 with 1 Axes>"
      ]
     },
     "metadata": {},
     "output_type": "display_data"
    }
   ],
   "source": [
    "# Using tsai/fastai, create DataLoaders for the features in X_feat.\n",
    "tfms = [None, TSClassification()]\n",
    "batch_tfms = TSStandardize(by_sample=True)\n",
    "dls = get_ts_dls(X_feat, y, splits=splits, tfms=tfms, batch_tfms=batch_tfms)\n",
    "                 \n",
    "# model is a linear classifier Head\n",
    "model = build_ts_model(MiniRocketHead, dls=dls)\n",
    "                 \n",
    "# Drop into fastai and use it to find a good learning rate.\n",
    "learn = Learner(dls, model, metrics=accuracy, cbs=ShowGraph())\n",
    "learn.lr_find()"
   ]
  },
  {
   "cell_type": "code",
   "execution_count": 27,
   "id": "79b1720b-bdc9-4fb8-b624-f8151d7bf116",
   "metadata": {},
   "outputs": [
    {
     "data": {
      "text/html": [
       "\n",
       "<style>\n",
       "    /* Turns off some styling */\n",
       "    progress {\n",
       "        /* gets rid of default border in Firefox and Opera. */\n",
       "        border: none;\n",
       "        /* Needs to be in here for Safari polyfill so background images work as expected. */\n",
       "        background-size: auto;\n",
       "    }\n",
       "    progress:not([value]), progress:not([value])::-webkit-progress-bar {\n",
       "        background: repeating-linear-gradient(45deg, #7e7e7e, #7e7e7e 10px, #5c5c5c 10px, #5c5c5c 20px);\n",
       "    }\n",
       "    .progress-bar-interrupted, .progress-bar-interrupted::-webkit-progress-bar {\n",
       "        background: #F44336;\n",
       "    }\n",
       "</style>\n"
      ],
      "text/plain": [
       "<IPython.core.display.HTML object>"
      ]
     },
     "metadata": {},
     "output_type": "display_data"
    },
    {
     "data": {
      "text/html": [
       "<table border=\"1\" class=\"dataframe\">\n",
       "  <thead>\n",
       "    <tr style=\"text-align: left;\">\n",
       "      <th>epoch</th>\n",
       "      <th>train_loss</th>\n",
       "      <th>valid_loss</th>\n",
       "      <th>accuracy</th>\n",
       "      <th>time</th>\n",
       "    </tr>\n",
       "  </thead>\n",
       "  <tbody>\n",
       "    <tr>\n",
       "      <td>0</td>\n",
       "      <td>1.594873</td>\n",
       "      <td>1.580352</td>\n",
       "      <td>0.294592</td>\n",
       "      <td>00:01</td>\n",
       "    </tr>\n",
       "    <tr>\n",
       "      <td>1</td>\n",
       "      <td>1.564478</td>\n",
       "      <td>1.556683</td>\n",
       "      <td>0.324470</td>\n",
       "      <td>00:01</td>\n",
       "    </tr>\n",
       "    <tr>\n",
       "      <td>2</td>\n",
       "      <td>1.538699</td>\n",
       "      <td>1.541812</td>\n",
       "      <td>0.327756</td>\n",
       "      <td>00:01</td>\n",
       "    </tr>\n",
       "    <tr>\n",
       "      <td>3</td>\n",
       "      <td>1.527009</td>\n",
       "      <td>1.536451</td>\n",
       "      <td>0.336421</td>\n",
       "      <td>00:01</td>\n",
       "    </tr>\n",
       "    <tr>\n",
       "      <td>4</td>\n",
       "      <td>1.509121</td>\n",
       "      <td>1.530424</td>\n",
       "      <td>0.336719</td>\n",
       "      <td>00:01</td>\n",
       "    </tr>\n",
       "    <tr>\n",
       "      <td>5</td>\n",
       "      <td>1.494616</td>\n",
       "      <td>1.528829</td>\n",
       "      <td>0.332537</td>\n",
       "      <td>00:01</td>\n",
       "    </tr>\n",
       "    <tr>\n",
       "      <td>6</td>\n",
       "      <td>1.485041</td>\n",
       "      <td>1.526890</td>\n",
       "      <td>0.335823</td>\n",
       "      <td>00:01</td>\n",
       "    </tr>\n",
       "    <tr>\n",
       "      <td>7</td>\n",
       "      <td>1.475450</td>\n",
       "      <td>1.525797</td>\n",
       "      <td>0.339110</td>\n",
       "      <td>00:01</td>\n",
       "    </tr>\n",
       "    <tr>\n",
       "      <td>8</td>\n",
       "      <td>1.473093</td>\n",
       "      <td>1.525650</td>\n",
       "      <td>0.334329</td>\n",
       "      <td>00:01</td>\n",
       "    </tr>\n",
       "    <tr>\n",
       "      <td>9</td>\n",
       "      <td>1.472709</td>\n",
       "      <td>1.526003</td>\n",
       "      <td>0.336719</td>\n",
       "      <td>00:01</td>\n",
       "    </tr>\n",
       "  </tbody>\n",
       "</table>"
      ],
      "text/plain": [
       "<IPython.core.display.HTML object>"
      ]
     },
     "metadata": {},
     "output_type": "display_data"
    },
    {
     "data": {
      "image/png": "[encoded data removed]",
      "text/plain": [
       "<Figure size 600x400 with 1 Axes>"
      ]
     },
     "metadata": {},
     "output_type": "display_data"
    },
    {
     "data": {
      "image/png": "[encoded data removed]",
      "text/plain": [
       "<Figure size 2000x400 with 3 Axes>"
      ]
     },
     "metadata": {},
     "output_type": "display_data"
    },
    {
     "name": "stdout",
     "output_type": "stream",
     "text": [
      "Total time              : 14.052323\n"
     ]
    },
    {
     "data": {
      "text/plain": [
       "14.052323"
      ]
     },
     "execution_count": 27,
     "metadata": {},
     "output_type": "execute_result"
    }
   ],
   "source": [
    "# As above, use tsai to bring X_feat into fastai, and train.\n",
    "tfms = [None, TSClassification()]\n",
    "batch_tfms = TSStandardize(by_sample=True)\n",
    "dls = get_ts_dls(X_feat, y, splits=splits, tfms=tfms, batch_tfms=batch_tfms)\n",
    "model = build_ts_model(MiniRocketHead, dls=dls)\n",
    "learn = Learner(dls, model, metrics=accuracy, cbs=ShowGraph())\n",
    "timer.start()\n",
    "learn.fit_one_cycle(10, 1.2022644114040304e-05)\n",
    "timer.stop()"
   ]
  },
  {
   "cell_type": "code",
   "execution_count": 28,
   "id": "3e5ac0df-e242-425e-a1ad-729580065298",
   "metadata": {},
   "outputs": [],
   "source": [
    "PATH = Path('./models/MRL.pkl')\n",
    "PATH.parent.mkdir(parents=True, exist_ok=True)\n",
    "learn.export(PATH)"
   ]
  },
  {
   "cell_type": "markdown",
   "id": "2860daef-bc8e-4fb3-a3d0-398e91522dd6",
   "metadata": {},
   "source": [
    "### Inference"
   ]
  },
  {
   "cell_type": "code",
   "execution_count": 29,
   "id": "d9b020b6-9a8c-420d-8b4d-0248cc3d67ec",
   "metadata": {},
   "outputs": [
    {
     "data": {
      "text/plain": [
       "<All keys matched successfully>"
      ]
     },
     "execution_count": 29,
     "metadata": {},
     "output_type": "execute_result"
    }
   ],
   "source": [
    "mrf = MiniRocketFeatures(X.shape[1], X.shape[2]).to(device)\n",
    "PATH = Path(\"./models/MRF.pt\")\n",
    "mrf.load_state_dict(torch.load(PATH))"
   ]
  },
  {
   "cell_type": "code",
   "execution_count": 30,
   "id": "e86e297f-5548-437f-a383-945e3c434fb9",
   "metadata": {},
   "outputs": [
    {
     "data": {
      "text/plain": [
       "((3347, 9996, 1), numpy.ndarray)"
      ]
     },
     "execution_count": 30,
     "metadata": {},
     "output_type": "execute_result"
    }
   ],
   "source": [
    "new_feat = get_minirocket_features(torch.from_numpy(X[splits[1]]).float().to(device), mrf, chunksize=1024, to_np=True)\n",
    "new_feat.shape, type(new_feat)"
   ]
  },
  {
   "cell_type": "code",
   "execution_count": 31,
   "id": "d8c8befd-10c0-4649-a07f-51d23fc51ae8",
   "metadata": {},
   "outputs": [],
   "source": [
    "PATH = Path('./models/MRL.pkl')\n",
    "learn = load_learner(PATH, cpu=False)"
   ]
  },
  {
   "cell_type": "code",
   "execution_count": 32,
   "id": "91955b6c-50be-4184-a099-d76b6ff12e32",
   "metadata": {},
   "outputs": [
    {
     "data": {
      "text/html": [
       "\n",
       "<style>\n",
       "    /* Turns off some styling */\n",
       "    progress {\n",
       "        /* gets rid of default border in Firefox and Opera. */\n",
       "        border: none;\n",
       "        /* Needs to be in here for Safari polyfill so background images work as expected. */\n",
       "        background-size: auto;\n",
       "    }\n",
       "    progress:not([value]), progress:not([value])::-webkit-progress-bar {\n",
       "        background: repeating-linear-gradient(45deg, #7e7e7e, #7e7e7e 10px, #5c5c5c 10px, #5c5c5c 20px);\n",
       "    }\n",
       "    .progress-bar-interrupted, .progress-bar-interrupted::-webkit-progress-bar {\n",
       "        background: #F44336;\n",
       "    }\n",
       "</style>\n"
      ],
      "text/plain": [
       "<IPython.core.display.HTML object>"
      ]
     },
     "metadata": {},
     "output_type": "display_data"
    },
    {
     "data": {
      "text/html": [],
      "text/plain": [
       "<IPython.core.display.HTML object>"
      ]
     },
     "metadata": {},
     "output_type": "display_data"
    }
   ],
   "source": [
    "probas, _, preds = learn.get_X_preds(new_feat)"
   ]
  },
  {
   "cell_type": "code",
   "execution_count": 33,
   "id": "733d6c4a-0b33-48a0-ace7-2690d2242849",
   "metadata": {},
   "outputs": [
    {
     "data": {
      "text/plain": [
       "0.3367194502539588"
      ]
     },
     "execution_count": 33,
     "metadata": {},
     "output_type": "execute_result"
    }
   ],
   "source": [
    "sklearn.metrics.accuracy_score(y[splits[1]], preds.astype(np.float64))"
   ]
  },
  {
   "cell_type": "code",
   "execution_count": null,
   "id": "07c2a7e3-9140-440a-a480-15fa620880e3",
   "metadata": {},
   "outputs": [],
   "source": []
  }
 ],
 "metadata": {
  "kernelspec": {
   "display_name": "Python 3 (ipykernel)",
   "language": "python",
   "name": "python3"
  },
  "language_info": {
   "codemirror_mode": {
    "name": "ipython",
    "version": 3
   },
   "file_extension": ".py",
   "mimetype": "text/x-python",
   "name": "python",
   "nbconvert_exporter": "python",
   "pygments_lexer": "ipython3",
   "version": "3.10.5"
  }
 },
 "nbformat": 4,
 "nbformat_minor": 5
}
